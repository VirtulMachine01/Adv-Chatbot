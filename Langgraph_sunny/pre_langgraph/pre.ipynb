{
 "cells": [
  {
   "cell_type": "code",
   "execution_count": 59,
   "metadata": {},
   "outputs": [
    {
     "data": {
      "text/plain": [
       "True"
      ]
     },
     "execution_count": 59,
     "metadata": {},
     "output_type": "execute_result"
    }
   ],
   "source": [
    "import os\n",
    "from dotenv import load_dotenv\n",
    "load_dotenv()"
   ]
  },
  {
   "cell_type": "code",
   "execution_count": 60,
   "metadata": {},
   "outputs": [],
   "source": [
    "# os.environ[\"GOOGLE_API_KEY\"] = os.getenv(\"GOOGLE_API_KEY\")\n",
    "os.environ[\"TAVILY_API_KEY\"] = os.getenv(\"TAVILY_API_KEY\")\n",
    "os.environ[\"GROQ_API_KEY\"] = os.getenv(\"GROQ_API_KEY\")\n",
    "os.environ[\"LANGCHAIN_API_KEY\"] = os.getenv(\"LANGCHAIN_API_KEY\")\n",
    "os.environ[\"LANGCHAIN_TRACING_V2\"] = \"true\"\n",
    "os.environ[\"LANGCHAIN_ENDPOINT\"] = \"https://api.smith.langchain.com\"\n",
    "os.environ[\"LANGCHAIN_PROJECT\"] = os.getenv(\"LANGCHAIN_PROJECT\")"
   ]
  },
  {
   "cell_type": "code",
   "execution_count": 55,
   "metadata": {},
   "outputs": [],
   "source": [
    "# from langchain_google_genai import GoogleGenerativeAIEmbeddings, ChatGoogleGenerativeAI\n",
    "# embeddings = GoogleGenerativeAIEmbeddings (model=\"models/embedding-001\")\n",
    "# llm = ChatGoogleGenerativeAI(model = \"gemini-1.0-pro\")"
   ]
  },
  {
   "cell_type": "code",
   "execution_count": 56,
   "metadata": {},
   "outputs": [],
   "source": [
    "from langchain_groq import ChatGroq\n",
    "llm = ChatGroq(model=\"llama-3.1-8b-instant\")"
   ]
  },
  {
   "cell_type": "code",
   "execution_count": 57,
   "metadata": {},
   "outputs": [
    {
     "name": "stderr",
     "output_type": "stream",
     "text": [
      "/home/user/Meet_Patel/AllChatbot-Project/chatenv/lib/python3.12/site-packages/transformers/tokenization_utils_base.py:1601: FutureWarning: `clean_up_tokenization_spaces` was not set. It will be set to `True` by default. This behavior will be depracted in transformers v4.45, and will be then set to `False` by default. For more details check this issue: https://github.com/huggingface/transformers/issues/31884\n",
      "  warnings.warn(\n"
     ]
    }
   ],
   "source": [
    "from langchain_huggingface import HuggingFaceEmbeddings\n",
    "embeddings2 = HuggingFaceEmbeddings(model_name=\"all-MiniLM-L6-v2\")"
   ]
  },
  {
   "cell_type": "markdown",
   "metadata": {},
   "source": [
    "SIMPLE AI Assistant\n",
    "\n",
    "Prompt -> LLM -> Response"
   ]
  },
  {
   "cell_type": "code",
   "execution_count": 17,
   "metadata": {},
   "outputs": [
    {
     "name": "stdout",
     "output_type": "stream",
     "text": [
      "How's it going? Is there something I can help you with or would you like to chat?\n",
      "I'm a large language model, I don't have real-time access to current weather conditions. However, I can suggest some options to help you find out the current weather in your area:\n",
      "\n",
      "1. **Check online weather websites**: You can visit websites like AccuWeather, Weather.com, or the National Weather Service (NWS) for current weather conditions and forecasts.\n",
      "2. **Use a weather app**: Download a weather app on your smartphone, such as Dark Sky, Weather Underground, or The Weather Channel, to get current weather conditions and forecasts.\n",
      "3. **Ask a virtual assistant**: If you have a virtual assistant like Siri, Google Assistant, or Alexa, you can ask them for the current weather in your area.\n",
      "4. **Tune into local news**: Watch local news or listen to local radio stations for weather updates.\n",
      "\n",
      "Please let me know what location you would like to know the weather for, and I'll do my best to help you find the information.\n",
      "It looks like you're just saying \"okay.\" Is there something I can help you with or would you like to chat?\n",
      "goodbye take care yourself\n"
     ]
    }
   ],
   "source": [
    "while True:\n",
    "    question=input(\"type your question. if you want to quit the chat write quit\")\n",
    "    if question !=\"quit\":\n",
    "        print(llm.invoke(question).content)\n",
    "    else:\n",
    "        print(\"goodbye take care yourself\")\n",
    "        break"
   ]
  },
  {
   "cell_type": "code",
   "execution_count": 18,
   "metadata": {},
   "outputs": [],
   "source": [
    "from langchain_core.chat_history import BaseChatMessageHistory\n",
    "from langchain_core.chat_history import InMemoryChatMessageHistory\n",
    "from langchain_core.runnables.history import RunnableWithMessageHistory\n",
    "from langchain_core.messages import AIMessage"
   ]
  },
  {
   "cell_type": "code",
   "execution_count": 19,
   "metadata": {},
   "outputs": [],
   "source": [
    "store={}\n",
    "def get_session_history(session_id: str) -> BaseChatMessageHistory:\n",
    "    if session_id not in store:\n",
    "        store[session_id] = InMemoryChatMessageHistory()\n",
    "    return store[session_id]"
   ]
  },
  {
   "cell_type": "code",
   "execution_count": 20,
   "metadata": {},
   "outputs": [],
   "source": [
    "config = {\"configurable\": {\"session_id\": \"firstchat\"}}"
   ]
  },
  {
   "cell_type": "code",
   "execution_count": 21,
   "metadata": {},
   "outputs": [],
   "source": [
    "model_with_memory=RunnableWithMessageHistory(llm,get_session_history)"
   ]
  },
  {
   "cell_type": "code",
   "execution_count": 22,
   "metadata": {},
   "outputs": [
    {
     "data": {
      "text/plain": [
       "\"Nice to meet you, Virtual Machine! You're a software emulation of a physical computer, allowing you to run an operating system (OS) on top of a host machine's OS. This enables you to run multiple OS environments on a single physical machine, which can be really useful for testing, development, and other purposes.\\n\\nWhat kind of virtual machine are you? Are you a typical x86-based VM, a cloud-based VM, or perhaps a special-purpose VM like a container?\""
      ]
     },
     "execution_count": 22,
     "metadata": {},
     "output_type": "execute_result"
    }
   ],
   "source": [
    "model_with_memory.invoke((\"Hi! I'm Virtual Machine\"),config=config).content\n"
   ]
  },
  {
   "cell_type": "code",
   "execution_count": 23,
   "metadata": {},
   "outputs": [
    {
     "data": {
      "text/plain": [
       "'I don\\'t actually know your name. I called you \"Virtual Machine\" because that\\'s what you said you were. If you\\'d like to share a specific name for yourself, I\\'d be happy to know it!'"
      ]
     },
     "execution_count": 23,
     "metadata": {},
     "output_type": "execute_result"
    }
   ],
   "source": [
    "model_with_memory.invoke((\"tell me what is my name?\"),config=config).content"
   ]
  },
  {
   "cell_type": "markdown",
   "metadata": {},
   "source": [
    "RAG WITH LCEL"
   ]
  },
  {
   "cell_type": "code",
   "execution_count": 25,
   "metadata": {},
   "outputs": [],
   "source": [
    "from langchain_community.document_loaders import TextLoader, DirectoryLoader\n",
    "from langchain.text_splitter import RecursiveCharacterTextSplitter\n",
    "from langchain_community.vectorstores import Chroma\n",
    "from langchain import PromptTemplate\n",
    "from langchain_core.runnables import RunnableParallel, RunnablePassthrough , RunnableLambda\n",
    "from langchain_core.output_parsers import StrOutputParser\n"
   ]
  },
  {
   "cell_type": "code",
   "execution_count": 26,
   "metadata": {},
   "outputs": [],
   "source": [
    "\n",
    "### Reading the txt files from source directory\n",
    "\n",
    "loader = DirectoryLoader('../data', glob=\"./*.txt\", loader_cls=TextLoader)\n",
    "docs = loader.load()\n",
    "\n",
    "### Creating Chunks using RecursiveCharacterTextSplitter\n",
    "\n",
    "text_splitter = RecursiveCharacterTextSplitter(\n",
    "    chunk_size=50,\n",
    "    chunk_overlap=10,\n",
    "    length_function=len\n",
    ")\n",
    "new_docs = text_splitter.split_documents(documents=docs)\n",
    "doc_strings = [doc.page_content for doc in new_docs]\n",
    "\n",
    "###  BGE Embddings\n",
    "\n",
    "'''from langchain.embeddings import HuggingFaceBgeEmbeddings\n",
    "\n",
    "model_name = \"BAAI/bge-base-en-v1.5\"\n",
    "model_kwargs = {'device': 'cpu'}\n",
    "encode_kwargs = {'normalize_embeddings': True} # set True to compute cosine similarity\n",
    "embeddings = HuggingFaceBgeEmbeddings(\n",
    "    model_name=model_name,\n",
    "    model_kwargs=model_kwargs,\n",
    "    encode_kwargs=encode_kwargs,\n",
    ")\n",
    "'''\n",
    "\n",
    "### Creating Retriever using Vector DB\n",
    "\n",
    "db = Chroma.from_documents(new_docs, embeddings2)\n",
    "retriever = db.as_retriever(search_kwargs={\"k\": 4})"
   ]
  },
  {
   "cell_type": "code",
   "execution_count": 27,
   "metadata": {},
   "outputs": [],
   "source": [
    "template = \"\"\"Answer the question based only on the following context:\n",
    "{context}\n",
    "\n",
    "Question: {question}\n",
    "\"\"\"\n",
    "prompt = PromptTemplate.from_template(template)"
   ]
  },
  {
   "cell_type": "code",
   "execution_count": 28,
   "metadata": {},
   "outputs": [],
   "source": [
    "retrieval_chain = (\n",
    "    RunnableParallel({\"context\": retriever, \"question\": RunnablePassthrough()})\n",
    "    | prompt\n",
    "    | llm\n",
    "    | StrOutputParser()\n",
    "    )"
   ]
  },
  {
   "cell_type": "code",
   "execution_count": 29,
   "metadata": {},
   "outputs": [
    {
     "name": "stdout",
     "output_type": "stream",
     "text": [
      "Based on the provided context, it appears that Llama 3 is a model used for various AI services. Here are 3 important points about Llama 3:\n",
      "\n",
      "1. **Llama 3 is a model**: The context describes Llama 3 as a model, specifically mentioning an \"8B parameter version\" of it. This suggests that Llama 3 is a type of artificial intelligence (AI) model.\n",
      "\n",
      "2. **Released in April 2024**: According to the context, Llama 3 is released in April 2024. This information suggests that Llama 3 is a relatively new AI model.\n",
      "\n",
      "3. **Used by Meta services**: The context mentions that Meta added Llama 3 to their services alongside its release. This implies that Llama 3 is used by various AI-powered services provided by Meta, such as its website.\n"
     ]
    }
   ],
   "source": [
    "question =\"what is llama3? can you highlight 3 important points?\"\n",
    "print(retrieval_chain.invoke(question))"
   ]
  },
  {
   "cell_type": "markdown",
   "metadata": {},
   "source": [
    "TOOLS AND AGENTS"
   ]
  },
  {
   "cell_type": "markdown",
   "metadata": {},
   "source": [
    "Wikipedia Tool\n"
   ]
  },
  {
   "cell_type": "code",
   "execution_count": 30,
   "metadata": {},
   "outputs": [],
   "source": [
    "from langchain_community.tools import WikipediaQueryRun\n",
    "from langchain_community.utilities import WikipediaAPIWrapper"
   ]
  },
  {
   "cell_type": "code",
   "execution_count": 38,
   "metadata": {},
   "outputs": [],
   "source": [
    "api_wrapper = WikipediaAPIWrapper(top_k_results=5, doc_content_chars_max=100)\n",
    "wiki_tool = WikipediaQueryRun(api_wrapper=api_wrapper)"
   ]
  },
  {
   "cell_type": "code",
   "execution_count": 39,
   "metadata": {},
   "outputs": [
    {
     "data": {
      "text/plain": [
       "'wikipedia'"
      ]
     },
     "execution_count": 39,
     "metadata": {},
     "output_type": "execute_result"
    }
   ],
   "source": [
    "wiki_tool.name"
   ]
  },
  {
   "cell_type": "code",
   "execution_count": 40,
   "metadata": {},
   "outputs": [
    {
     "data": {
      "text/plain": [
       "'A wrapper around Wikipedia. Useful for when you need to answer general questions about people, places, companies, facts, historical events, or other subjects. Input should be a search query.'"
      ]
     },
     "execution_count": 40,
     "metadata": {},
     "output_type": "execute_result"
    }
   ],
   "source": [
    "wiki_tool.description"
   ]
  },
  {
   "cell_type": "code",
   "execution_count": 41,
   "metadata": {},
   "outputs": [
    {
     "data": {
      "text/plain": [
       "{'query': {'description': 'query to look up on wikipedia',\n",
       "  'title': 'Query',\n",
       "  'type': 'string'}}"
      ]
     },
     "execution_count": 41,
     "metadata": {},
     "output_type": "execute_result"
    }
   ],
   "source": [
    "wiki_tool.args"
   ]
  },
  {
   "cell_type": "code",
   "execution_count": 42,
   "metadata": {},
   "outputs": [
    {
     "data": {
      "text/plain": [
       "False"
      ]
     },
     "execution_count": 42,
     "metadata": {},
     "output_type": "execute_result"
    }
   ],
   "source": [
    "wiki_tool.return_direct"
   ]
  },
  {
   "cell_type": "code",
   "execution_count": 43,
   "metadata": {},
   "outputs": [
    {
     "name": "stdout",
     "output_type": "stream",
     "text": [
      "Page: LangChain\n",
      "Summary: LangChain is a software framework that helps facilitate the integration of \n"
     ]
    }
   ],
   "source": [
    "print(wiki_tool.run({\"query\": \"langchain\"}))"
   ]
  },
  {
   "cell_type": "markdown",
   "metadata": {},
   "source": [
    "Youotube Search Tool"
   ]
  },
  {
   "cell_type": "code",
   "execution_count": 44,
   "metadata": {},
   "outputs": [],
   "source": [
    "from langchain_community.tools import YouTubeSearchTool"
   ]
  },
  {
   "cell_type": "code",
   "execution_count": 45,
   "metadata": {},
   "outputs": [],
   "source": [
    "youtube_tool = YouTubeSearchTool()"
   ]
  },
  {
   "cell_type": "code",
   "execution_count": 46,
   "metadata": {},
   "outputs": [
    {
     "data": {
      "text/plain": [
       "'youtube_search'"
      ]
     },
     "execution_count": 46,
     "metadata": {},
     "output_type": "execute_result"
    }
   ],
   "source": [
    "youtube_tool.name"
   ]
  },
  {
   "cell_type": "code",
   "execution_count": 47,
   "metadata": {},
   "outputs": [
    {
     "data": {
      "text/plain": [
       "'search for youtube videos associated with a person. the input to this tool should be a comma separated list, the first part contains a person name and the second a number that is the maximum number of video results to return aka num_results. the second part is optional'"
      ]
     },
     "execution_count": 47,
     "metadata": {},
     "output_type": "execute_result"
    }
   ],
   "source": [
    "youtube_tool.description"
   ]
  },
  {
   "cell_type": "code",
   "execution_count": 49,
   "metadata": {},
   "outputs": [
    {
     "data": {
      "text/plain": [
       "\"['https://www.youtube.com/watch?v=1bUy-1hGZpI&pp=ygUJTGFuZ2NoYWlu', 'https://www.youtube.com/watch?v=nAmC7SoVLd8&pp=ygUJTGFuZ2NoYWlu']\""
      ]
     },
     "execution_count": 49,
     "metadata": {},
     "output_type": "execute_result"
    }
   ],
   "source": [
    "youtube_tool.run(\"Langchain\")"
   ]
  },
  {
   "cell_type": "markdown",
   "metadata": {},
   "source": [
    "TAVILYSEARCH - WEBSEARCH"
   ]
  },
  {
   "cell_type": "code",
   "execution_count": 61,
   "metadata": {},
   "outputs": [],
   "source": [
    "from langchain_community.tools.tavily_search import TavilySearchResults"
   ]
  },
  {
   "cell_type": "code",
   "execution_count": 64,
   "metadata": {},
   "outputs": [],
   "source": [
    "web_tool = TavilySearchResults()"
   ]
  },
  {
   "cell_type": "code",
   "execution_count": 72,
   "metadata": {},
   "outputs": [
    {
     "data": {
      "text/plain": [
       "'tavily_search_results_json'"
      ]
     },
     "execution_count": 72,
     "metadata": {},
     "output_type": "execute_result"
    }
   ],
   "source": [
    "web_tool.name"
   ]
  },
  {
   "cell_type": "code",
   "execution_count": 77,
   "metadata": {},
   "outputs": [
    {
     "data": {
      "text/plain": [
       "[{'url': 'https://www.wired.com/story/meta-movie-gen-ai-model/',\n",
       "  'content': 'Meta’s Movie Gen Makes Convincing AI Video Clips | WIRED Meta’s Movie Gen Makes Convincing AI Video Clips Meta’s Movie Gen Makes Convincing AI Video Clips Meta just announced its own media-focused AI model, called Movie Gen, that can be used to generate realistic video and audioclips. Going beyond the generation of straightforward text-to-video clips, the Movie Gen model can make targeted edits to an existing clip, like adding an object into someone’s hands or changing the appearance of a surface. Considering Meta’s legacy as a social media company, it’s possible that tools powered by Movie Gen will start popping up, eventually, inside of Facebook, Instagram, and WhatsApp. In September, competitor Google shared plans to make aspects of its Veo video model available to creators inside its YouTube Shorts sometime next year.'},\n",
       " {'url': 'https://arstechnica.com/ai/2024/10/metas-new-movie-gen-ai-system-can-deepfake-video-from-a-single-photo/',\n",
       "  'content': 'On Friday, Meta announced a preview of Movie Gen, a new suite of AI models designed to create and manipulate video, audio, and images, including creating a realistic video from a single photo of a person. AI-generated video from Meta Movie Gen with the prompt: \"A ghost in a white bedsheet faces a mirror. AI-generated video from Meta Movie Gen with the prompt: \"A ghost in a white bedsheet faces a mirror. Even so, as we\\'ve seen with previous AI video generators, Movie Gen\\'s ability to generate coherent scenes on a particular topic is likely dependent on the concepts found in the example videos that Meta used to train its video-synthesis model.'},\n",
       " {'url': 'https://www.theverge.com/2024/10/4/24261990/meta-movie-gen-ai-video-generator-openai-sora',\n",
       "  'content': 'Meta announces Movie Gen, an AI-powered video generator - The Verge Meta announces Movie Gen, an AI-powered video generator Meta announces Movie Gen, an AI-powered video generator Movie Gen uses text inputs to automatically generate new videos, as well as edit existing footage or still images. In addition to generating new clips, Meta says Movie Gen can also create custom videos from images or take an existing video and change different elements of it. A video edited using Movie Gen. Nearly two years after powerful AI image and video generators hit the mainstream, AI companies have pushed the technology further: in just the last six months, major tech companies like Google and OpenAI are working on similar tools, along with smaller startups.'},\n",
       " {'url': 'https://www.tomsguide.com/ai/ai-image-video/meta-movie-gen-just-unveiled-new-ai-video-generator-rivals-openais-sora',\n",
       "  'content': \"Meta Movie Gen just unveiled — new AI video generator rivals OpenAI’s Sora | Tom's Guide Meta Movie Gen just unveiled — new AI video generator rivals OpenAI’s Sora Meta's Movie Gen can generate footage from text, turn images into videos and even add music and sound effects Meta announced a new AI-powered video and audio generator today (October 4) to rival the likes of OpenAI's Sora and ElevenLabs' AI voice tools. So while we'll have to wait and see whether Movie Gen ranks among our list of the\\xa0best AI video generators, the early results are promising. Alyse Stanley is a news editor at Tom’s Guide overseeing weekend coverage and writing about the latest in tech, gaming and entertainment.\"},\n",
       " {'url': 'https://ai.meta.com/blog/movie-gen-media-foundation-models-generative-ai-video/',\n",
       "  'content': 'Today, we’re excited to premiere Meta Movie Gen, our breakthrough generative AI research for media, which includes modalities like image, video, and audio. Our first wave of generative AI work started with the Make-A-Scene series of models that enabled the creation of image, audio, video, and 3D animation. With the advent of diffusion models, we had a second wave of work with Llama Image foundation models, which enabled higher quality generation of images and video, as well as image editing. As the most advanced and immersive storytelling suite of models, Movie Gen has four capabilities: video generation, personalized video generation, precise video editing, and audio generation. The editing variant of the same foundation model takes both video and text prompt as input, executing tasks with precision to generate the desired output.'}]"
      ]
     },
     "execution_count": 77,
     "metadata": {},
     "output_type": "execute_result"
    }
   ],
   "source": [
    "web_tool.invoke({\"query\": \"Latest news on the movie gen by meta.\"})"
   ]
  },
  {
   "cell_type": "markdown",
   "metadata": {},
   "source": [
    "AGENTS OLD CLASSES"
   ]
  },
  {
   "cell_type": "code",
   "execution_count": 66,
   "metadata": {},
   "outputs": [],
   "source": [
    "from langchain.agents import AgentType, load_tools, initialize_agent"
   ]
  },
  {
   "cell_type": "code",
   "execution_count": 78,
   "metadata": {},
   "outputs": [],
   "source": [
    "tool1 = load_tools([\"wikipedia\"], llm=llm)\n",
    "agent = initialize_agent(tool1, llm, agent=AgentType.ZERO_SHOT_REACT_DESCRIPTION, verbose=True)"
   ]
  },
  {
   "cell_type": "code",
   "execution_count": 79,
   "metadata": {},
   "outputs": [
    {
     "name": "stderr",
     "output_type": "stream",
     "text": [
      "Error in StdOutCallbackHandler.on_chain_start callback: AttributeError(\"'NoneType' object has no attribute 'get'\")\n"
     ]
    },
    {
     "name": "stdout",
     "output_type": "stream",
     "text": [
      "\u001b[32;1m\u001b[1;3mThought: To find information about the Taj Mahal, I should use a reliable source.\n",
      "\n",
      "Action: wikipedia\n",
      "Action Input: Taj Mahal\u001b[0m\n",
      "Observation: \u001b[36;1m\u001b[1;3mPage: Taj Mahal\n",
      "Summary: The Taj Mahal ( TAHJ mə-HAHL, TAHZH -⁠, Hindi: [taːdʒ ˈmɛɦ(ɛ)l]; lit. 'Crown of the Palace') is an ivory-white marble mausoleum on the right bank of the river Yamuna in Agra, Uttar Pradesh, India. It was commissioned in 1631 by the fifth Mughal emperor, Shah Jahan (r. 1628–1658) to house the tomb of his beloved wife, Mumtaz Mahal; it also houses the tomb of Shah Jahan himself. The tomb is the centrepiece of a 17-hectare (42-acre) complex, which includes a mosque and a guest house, and is set in formal gardens bounded on three sides by a crenellated wall.\n",
      "Construction of the mausoleum was completed in 1648, but work continued on other phases of the project for another five years. The first ceremony held at the mausoleum was an observance by Shah Jahan, on 6 February 1643, of the 12th anniversary of the death of Mumtaz Mahal. The Taj Mahal complex is believed to have been completed in its entirety in 1653 at a cost estimated at the time to be around ₹5 million, which in 2023 would be approximately ₹35 billion (US$77.8 million).\n",
      "The building complex incorporates the design traditions of Indo-Islamic and Mughal architecture. It employs symmetrical constructions with the usage of various shapes and symbols. While the mausoleum is constructed of white marble inlaid with semi-precious stones, red sandstone was used for other buildings in the complex similar to the Mughal era buildings of the time. The construction project employed more than 20,000 workers and artisans under the guidance of a board of architects led by Ustad Ahmad Lahori, the emperor's court architect.\n",
      "The Taj Mahal was designated as a UNESCO World Heritage Site in 1983 for being \"the jewel of Islamic art in India and one of the universally admired masterpieces of the world's heritage\". It is regarded as one of the best examples of Mughal architecture and a symbol of Indian history. The Taj Mahal is a major tourist attraction and attracts more than five million visitors a year. In 2007, it was declared a winner of the New 7 Wonders of the World initiative.\n",
      "\n",
      "Page: Taj Mahal Palace Hotel\n",
      "Summary: The Taj Mahal Palace is a heritage, five-star, luxury hotel in the Colaba area of Mumbai, Maharashtra, India, situated next to the Gateway of India. Built in the Indo-Saracenic style, it opened in 1903 as the Taj Mahal Hotel and has historically often been known simply as \"The Taj\". The hotel is named after the Taj Mahal, which is located in the city of Agra approximately 1,050 kilometres (650 mi) from Mumbai. It has been considered one of the finest hotels in the East since the time of the British Raj. The hotel was one of the main targets in the 2008 Mumbai attacks.\n",
      "Part of the Taj Hotels Resorts and Palaces, the hotel has 560 or 600 rooms and 44 suites and is considered the flagship property of the group; it employs 1,600 staff. The hotel is made up of two different structures: the Taj Mahal Palace and the Tower, which are historically and architecturally distinct from each other (the Taj Mahal Palace was built in 1903; the Tower was opened in 1972).\n",
      "The hotel has received many notable guests, from presidents to captains of industry and movie stars. Rattanbai Petit, wife of Muhammad Ali Jinnah, spent the last days of her life in one of the suites of the hotel, and eventually died there in 1929, at the age of 29.\n",
      "\n",
      "\n",
      "\n",
      "Page: Taj Mahal (musician)\n",
      "Summary: Henry St. Claire Fredericks Jr. (born May 17, 1942), better known by his stage name Taj Mahal, is an American blues musician. He plays the guitar, piano, banjo, harmonica, and many other instruments, often incorporating elements of world music into his work. Mahal has done much to reshape the definition and scope of blues music over the course of his more than 50-year career by fusing it with nontraditional forms, including sounds from the Caribbean, Africa, India, Hawaii, and the South Pacific.\n",
      "\n",
      "\u001b[0m\n",
      "Thought:\u001b[32;1m\u001b[1;3mThe Taj Mahal is an Indian monument, and I need to find information about it.\n",
      "\n",
      "Action: wikipedia\n",
      "Action Input: Indian monument Taj Mahal\u001b[0m\n",
      "Observation: \u001b[36;1m\u001b[1;3mPage: Taj Mahal Palace Hotel\n",
      "Summary: The Taj Mahal Palace is a heritage, five-star, luxury hotel in the Colaba area of Mumbai, Maharashtra, India, situated next to the Gateway of India. Built in the Indo-Saracenic style, it opened in 1903 as the Taj Mahal Hotel and has historically often been known simply as \"The Taj\". The hotel is named after the Taj Mahal, which is located in the city of Agra approximately 1,050 kilometres (650 mi) from Mumbai. It has been considered one of the finest hotels in the East since the time of the British Raj. The hotel was one of the main targets in the 2008 Mumbai attacks.\n",
      "Part of the Taj Hotels Resorts and Palaces, the hotel has 560 or 600 rooms and 44 suites and is considered the flagship property of the group; it employs 1,600 staff. The hotel is made up of two different structures: the Taj Mahal Palace and the Tower, which are historically and architecturally distinct from each other (the Taj Mahal Palace was built in 1903; the Tower was opened in 1972).\n",
      "The hotel has received many notable guests, from presidents to captains of industry and movie stars. Rattanbai Petit, wife of Muhammad Ali Jinnah, spent the last days of her life in one of the suites of the hotel, and eventually died there in 1929, at the age of 29.\n",
      "\n",
      "\n",
      "\n",
      "Page: Mumtaz Mahal\n",
      "Summary: Mumtaz Mahal (Hindustani pronunciation: [mʊmˈtaːz ˈmɛɦ(ɛ)l]; lit. 'The Exalted One of the Palace'; born Arjumand Banu Begum; 27 April 1593 – 17 June 1631) was the empress consort of Mughal Empire from 1628 to 1631 as the chief consort of the fifth Mughal emperor, Shah Jahan. The Taj Mahal in Agra, often cited as one of the Wonders of the World, was commissioned by her husband to act as her tomb.\n",
      "Mumtaz Mahal was born Arjumand Banu Begum in Agra to a family of Persian nobility. She was the daughter of Abu'l-Hasan Asaf Khan, a wealthy Persian noble who held high office in the Mughal Empire, and the niece of Empress Nur Jahan, the chief wife of Emperor Jahangir and the power behind the emperor. She was married at the age of 19 on 10 May 1612 or 16 June 1612 to Prince Khurram, later known by his regnal name Shah Jahan, who conferred upon her the title \"Mumtaz Mahal\" lit. 'The Exalted One of the Palace'. Although betrothed to Shah Jahan since 1607, she ultimately became his second wife in 1612. Mumtaz and her husband had 14 children, including Jahanara Begum (Shah Jahan's favorite daughter), and the Crown prince Dara Shikoh, the heir-apparent, anointed by his father, who temporarily succeeded him until deposed by Mumtaz Mahal's sixth child, Aurangzeb, who ultimately succeeded his father as the sixth Mughal emperor in 1658.\n",
      "Mumtaz Mahal died in 1631 in Burhanpur, Deccan (present-day Madhya Pradesh) during the birth of her 14th child, a daughter named Gauhar Ara Begum. Shah Jahan had the Taj Mahal built as a tomb for her, which is considered to be a monument of undying love. As with other Mughal royal ladies,  no contemporary likenesses of her are accepted, but imagined portraits were created from the 19th century onwards.\n",
      "\n",
      "Page: Taj Mahal\n",
      "Summary: The Taj Mahal ( TAHJ mə-HAHL, TAHZH -⁠, Hindi: [taːdʒ ˈmɛɦ(ɛ)l]; lit. 'Crown of the Palace') is an ivory-white marble mausoleum on the right bank of the river Yamuna in Agra, Uttar Pradesh, India. It was commissioned in 1631 by the fifth Mughal emperor, Shah Jahan (r. 1628–1658) to house the tomb of his beloved wife, Mumtaz Mahal; it also houses the tomb of Shah Jahan himself. The tomb is the centrepiece of a 17-hectare (42-acre) complex, which includes a mosque and a guest house, and is set in formal gardens bounded on three sides by a crenellated wall.\n",
      "Construction of the mausoleum was completed in 1648, but work continued on other phases of the project for another five years. The first ceremony held at the mausoleum was an observance by Shah Jahan, on 6 February 1643, of the 12th anniversary of the death of Mumtaz Mahal. The Taj Mahal complex is believed to have been completed in its entirety in 1653 at a co\u001b[0m\n",
      "Thought:\u001b[32;1m\u001b[1;3mQuestion: Two lines on Indian monument tajmahal.\n",
      "Thought: To find the correct information about the Indian monument Taj Mahal, I should avoid the Taj Mahal Palace Hotel and the musician Taj Mahal.\n",
      "\n",
      "Action: wikipedia\n",
      "Action Input: Indian monument Taj Mahal\u001b[0m\n",
      "Observation: \u001b[36;1m\u001b[1;3mPage: Taj Mahal Palace Hotel\n",
      "Summary: The Taj Mahal Palace is a heritage, five-star, luxury hotel in the Colaba area of Mumbai, Maharashtra, India, situated next to the Gateway of India. Built in the Indo-Saracenic style, it opened in 1903 as the Taj Mahal Hotel and has historically often been known simply as \"The Taj\". The hotel is named after the Taj Mahal, which is located in the city of Agra approximately 1,050 kilometres (650 mi) from Mumbai. It has been considered one of the finest hotels in the East since the time of the British Raj. The hotel was one of the main targets in the 2008 Mumbai attacks.\n",
      "Part of the Taj Hotels Resorts and Palaces, the hotel has 560 or 600 rooms and 44 suites and is considered the flagship property of the group; it employs 1,600 staff. The hotel is made up of two different structures: the Taj Mahal Palace and the Tower, which are historically and architecturally distinct from each other (the Taj Mahal Palace was built in 1903; the Tower was opened in 1972).\n",
      "The hotel has received many notable guests, from presidents to captains of industry and movie stars. Rattanbai Petit, wife of Muhammad Ali Jinnah, spent the last days of her life in one of the suites of the hotel, and eventually died there in 1929, at the age of 29.\n",
      "\n",
      "\n",
      "\n",
      "Page: Mumtaz Mahal\n",
      "Summary: Mumtaz Mahal (Hindustani pronunciation: [mʊmˈtaːz ˈmɛɦ(ɛ)l]; lit. 'The Exalted One of the Palace'; born Arjumand Banu Begum; 27 April 1593 – 17 June 1631) was the empress consort of Mughal Empire from 1628 to 1631 as the chief consort of the fifth Mughal emperor, Shah Jahan. The Taj Mahal in Agra, often cited as one of the Wonders of the World, was commissioned by her husband to act as her tomb.\n",
      "Mumtaz Mahal was born Arjumand Banu Begum in Agra to a family of Persian nobility. She was the daughter of Abu'l-Hasan Asaf Khan, a wealthy Persian noble who held high office in the Mughal Empire, and the niece of Empress Nur Jahan, the chief wife of Emperor Jahangir and the power behind the emperor. She was married at the age of 19 on 10 May 1612 or 16 June 1612 to Prince Khurram, later known by his regnal name Shah Jahan, who conferred upon her the title \"Mumtaz Mahal\" lit. 'The Exalted One of the Palace'. Although betrothed to Shah Jahan since 1607, she ultimately became his second wife in 1612. Mumtaz and her husband had 14 children, including Jahanara Begum (Shah Jahan's favorite daughter), and the Crown prince Dara Shikoh, the heir-apparent, anointed by his father, who temporarily succeeded him until deposed by Mumtaz Mahal's sixth child, Aurangzeb, who ultimately succeeded his father as the sixth Mughal emperor in 1658.\n",
      "Mumtaz Mahal died in 1631 in Burhanpur, Deccan (present-day Madhya Pradesh) during the birth of her 14th child, a daughter named Gauhar Ara Begum. Shah Jahan had the Taj Mahal built as a tomb for her, which is considered to be a monument of undying love. As with other Mughal royal ladies,  no contemporary likenesses of her are accepted, but imagined portraits were created from the 19th century onwards.\n",
      "\n",
      "Page: Taj Mahal\n",
      "Summary: The Taj Mahal ( TAHJ mə-HAHL, TAHZH -⁠, Hindi: [taːdʒ ˈmɛɦ(ɛ)l]; lit. 'Crown of the Palace') is an ivory-white marble mausoleum on the right bank of the river Yamuna in Agra, Uttar Pradesh, India. It was commissioned in 1631 by the fifth Mughal emperor, Shah Jahan (r. 1628–1658) to house the tomb of his beloved wife, Mumtaz Mahal; it also houses the tomb of Shah Jahan himself. The tomb is the centrepiece of a 17-hectare (42-acre) complex, which includes a mosque and a guest house, and is set in formal gardens bounded on three sides by a crenellated wall.\n",
      "Construction of the mausoleum was completed in 1648, but work continued on other phases of the project for another five years. The first ceremony held at the mausoleum was an observance by Shah Jahan, on 6 February 1643, of the 12th anniversary of the death of Mumtaz Mahal. The Taj Mahal complex is believed to have been completed in its entirety in 1653 at a co\u001b[0m\n",
      "Thought:\u001b[32;1m\u001b[1;3mThought: I need to find two lines about the Indian monument Taj Mahal.\n",
      "\n",
      "Action: wikipedia\n",
      "Action Input: Taj Mahal\u001b[0m\n",
      "Observation: \u001b[36;1m\u001b[1;3mPage: Taj Mahal\n",
      "Summary: The Taj Mahal ( TAHJ mə-HAHL, TAHZH -⁠, Hindi: [taːdʒ ˈmɛɦ(ɛ)l]; lit. 'Crown of the Palace') is an ivory-white marble mausoleum on the right bank of the river Yamuna in Agra, Uttar Pradesh, India. It was commissioned in 1631 by the fifth Mughal emperor, Shah Jahan (r. 1628–1658) to house the tomb of his beloved wife, Mumtaz Mahal; it also houses the tomb of Shah Jahan himself. The tomb is the centrepiece of a 17-hectare (42-acre) complex, which includes a mosque and a guest house, and is set in formal gardens bounded on three sides by a crenellated wall.\n",
      "Construction of the mausoleum was completed in 1648, but work continued on other phases of the project for another five years. The first ceremony held at the mausoleum was an observance by Shah Jahan, on 6 February 1643, of the 12th anniversary of the death of Mumtaz Mahal. The Taj Mahal complex is believed to have been completed in its entirety in 1653 at a cost estimated at the time to be around ₹5 million, which in 2023 would be approximately ₹35 billion (US$77.8 million).\n",
      "The building complex incorporates the design traditions of Indo-Islamic and Mughal architecture. It employs symmetrical constructions with the usage of various shapes and symbols. While the mausoleum is constructed of white marble inlaid with semi-precious stones, red sandstone was used for other buildings in the complex similar to the Mughal era buildings of the time. The construction project employed more than 20,000 workers and artisans under the guidance of a board of architects led by Ustad Ahmad Lahori, the emperor's court architect.\n",
      "The Taj Mahal was designated as a UNESCO World Heritage Site in 1983 for being \"the jewel of Islamic art in India and one of the universally admired masterpieces of the world's heritage\". It is regarded as one of the best examples of Mughal architecture and a symbol of Indian history. The Taj Mahal is a major tourist attraction and attracts more than five million visitors a year. In 2007, it was declared a winner of the New 7 Wonders of the World initiative.\n",
      "\n",
      "Page: Taj Mahal Palace Hotel\n",
      "Summary: The Taj Mahal Palace is a heritage, five-star, luxury hotel in the Colaba area of Mumbai, Maharashtra, India, situated next to the Gateway of India. Built in the Indo-Saracenic style, it opened in 1903 as the Taj Mahal Hotel and has historically often been known simply as \"The Taj\". The hotel is named after the Taj Mahal, which is located in the city of Agra approximately 1,050 kilometres (650 mi) from Mumbai. It has been considered one of the finest hotels in the East since the time of the British Raj. The hotel was one of the main targets in the 2008 Mumbai attacks.\n",
      "Part of the Taj Hotels Resorts and Palaces, the hotel has 560 or 600 rooms and 44 suites and is considered the flagship property of the group; it employs 1,600 staff. The hotel is made up of two different structures: the Taj Mahal Palace and the Tower, which are historically and architecturally distinct from each other (the Taj Mahal Palace was built in 1903; the Tower was opened in 1972).\n",
      "The hotel has received many notable guests, from presidents to captains of industry and movie stars. Rattanbai Petit, wife of Muhammad Ali Jinnah, spent the last days of her life in one of the suites of the hotel, and eventually died there in 1929, at the age of 29.\n",
      "\n",
      "\n",
      "\n",
      "Page: Taj Mahal (musician)\n",
      "Summary: Henry St. Claire Fredericks Jr. (born May 17, 1942), better known by his stage name Taj Mahal, is an American blues musician. He plays the guitar, piano, banjo, harmonica, and many other instruments, often incorporating elements of world music into his work. Mahal has done much to reshape the definition and scope of blues music over the course of his more than 50-year career by fusing it with nontraditional forms, including sounds from the Caribbean, Africa, India, Hawaii, and the South Pacific.\n",
      "\n",
      "\u001b[0m\n",
      "Thought:\u001b[32;1m\u001b[1;3mQuestion: Two lines on Indian monument tajmahal.\n",
      "Thought: I need to find two lines about the Indian monument Taj Mahal.\n",
      "\n",
      "Action: wikipedia\n",
      "Action Input: Taj Mahal\u001b[0m\n",
      "Observation: \u001b[36;1m\u001b[1;3mPage: Taj Mahal\n",
      "Summary: The Taj Mahal ( TAHJ mə-HAHL, TAHZH -⁠, Hindi: [taːdʒ ˈmɛɦ(ɛ)l]; lit. 'Crown of the Palace') is an ivory-white marble mausoleum on the right bank of the river Yamuna in Agra, Uttar Pradesh, India. It was commissioned in 1631 by the fifth Mughal emperor, Shah Jahan (r. 1628–1658) to house the tomb of his beloved wife, Mumtaz Mahal; it also houses the tomb of Shah Jahan himself. The tomb is the centrepiece of a 17-hectare (42-acre) complex, which includes a mosque and a guest house, and is set in formal gardens bounded on three sides by a crenellated wall.\n",
      "Construction of the mausoleum was completed in 1648, but work continued on other phases of the project for another five years. The first ceremony held at the mausoleum was an observance by Shah Jahan, on 6 February 1643, of the 12th anniversary of the death of Mumtaz Mahal. The Taj Mahal complex is believed to have been completed in its entirety in 1653 at a cost estimated at the time to be around ₹5 million, which in 2023 would be approximately ₹35 billion (US$77.8 million).\n",
      "The building complex incorporates the design traditions of Indo-Islamic and Mughal architecture. It employs symmetrical constructions with the usage of various shapes and symbols. While the mausoleum is constructed of white marble inlaid with semi-precious stones, red sandstone was used for other buildings in the complex similar to the Mughal era buildings of the time. The construction project employed more than 20,000 workers and artisans under the guidance of a board of architects led by Ustad Ahmad Lahori, the emperor's court architect.\n",
      "The Taj Mahal was designated as a UNESCO World Heritage Site in 1983 for being \"the jewel of Islamic art in India and one of the universally admired masterpieces of the world's heritage\". It is regarded as one of the best examples of Mughal architecture and a symbol of Indian history. The Taj Mahal is a major tourist attraction and attracts more than five million visitors a year. In 2007, it was declared a winner of the New 7 Wonders of the World initiative.\n",
      "\n",
      "Page: Taj Mahal Palace Hotel\n",
      "Summary: The Taj Mahal Palace is a heritage, five-star, luxury hotel in the Colaba area of Mumbai, Maharashtra, India, situated next to the Gateway of India. Built in the Indo-Saracenic style, it opened in 1903 as the Taj Mahal Hotel and has historically often been known simply as \"The Taj\". The hotel is named after the Taj Mahal, which is located in the city of Agra approximately 1,050 kilometres (650 mi) from Mumbai. It has been considered one of the finest hotels in the East since the time of the British Raj. The hotel was one of the main targets in the 2008 Mumbai attacks.\n",
      "Part of the Taj Hotels Resorts and Palaces, the hotel has 560 or 600 rooms and 44 suites and is considered the flagship property of the group; it employs 1,600 staff. The hotel is made up of two different structures: the Taj Mahal Palace and the Tower, which are historically and architecturally distinct from each other (the Taj Mahal Palace was built in 1903; the Tower was opened in 1972).\n",
      "The hotel has received many notable guests, from presidents to captains of industry and movie stars. Rattanbai Petit, wife of Muhammad Ali Jinnah, spent the last days of her life in one of the suites of the hotel, and eventually died there in 1929, at the age of 29.\n",
      "\n",
      "\n",
      "\n",
      "Page: Taj Mahal (musician)\n",
      "Summary: Henry St. Claire Fredericks Jr. (born May 17, 1942), better known by his stage name Taj Mahal, is an American blues musician. He plays the guitar, piano, banjo, harmonica, and many other instruments, often incorporating elements of world music into his work. Mahal has done much to reshape the definition and scope of blues music over the course of his more than 50-year career by fusing it with nontraditional forms, including sounds from the Caribbean, Africa, India, Hawaii, and the South Pacific.\n",
      "\n",
      "\u001b[0m\n",
      "Thought:\u001b[32;1m\u001b[1;3mThought: I need to find two lines about the Indian monument Taj Mahal.\n",
      "\n",
      "Action: wikipedia\n",
      "Action Input: Taj Mahal\u001b[0m\n",
      "Observation: \u001b[36;1m\u001b[1;3mPage: Taj Mahal\n",
      "Summary: The Taj Mahal ( TAHJ mə-HAHL, TAHZH -⁠, Hindi: [taːdʒ ˈmɛɦ(ɛ)l]; lit. 'Crown of the Palace') is an ivory-white marble mausoleum on the right bank of the river Yamuna in Agra, Uttar Pradesh, India. It was commissioned in 1631 by the fifth Mughal emperor, Shah Jahan (r. 1628–1658) to house the tomb of his beloved wife, Mumtaz Mahal; it also houses the tomb of Shah Jahan himself. The tomb is the centrepiece of a 17-hectare (42-acre) complex, which includes a mosque and a guest house, and is set in formal gardens bounded on three sides by a crenellated wall.\n",
      "Construction of the mausoleum was completed in 1648, but work continued on other phases of the project for another five years. The first ceremony held at the mausoleum was an observance by Shah Jahan, on 6 February 1643, of the 12th anniversary of the death of Mumtaz Mahal. The Taj Mahal complex is believed to have been completed in its entirety in 1653 at a cost estimated at the time to be around ₹5 million, which in 2023 would be approximately ₹35 billion (US$77.8 million).\n",
      "The building complex incorporates the design traditions of Indo-Islamic and Mughal architecture. It employs symmetrical constructions with the usage of various shapes and symbols. While the mausoleum is constructed of white marble inlaid with semi-precious stones, red sandstone was used for other buildings in the complex similar to the Mughal era buildings of the time. The construction project employed more than 20,000 workers and artisans under the guidance of a board of architects led by Ustad Ahmad Lahori, the emperor's court architect.\n",
      "The Taj Mahal was designated as a UNESCO World Heritage Site in 1983 for being \"the jewel of Islamic art in India and one of the universally admired masterpieces of the world's heritage\". It is regarded as one of the best examples of Mughal architecture and a symbol of Indian history. The Taj Mahal is a major tourist attraction and attracts more than five million visitors a year. In 2007, it was declared a winner of the New 7 Wonders of the World initiative.\n",
      "\n",
      "Page: Taj Mahal Palace Hotel\n",
      "Summary: The Taj Mahal Palace is a heritage, five-star, luxury hotel in the Colaba area of Mumbai, Maharashtra, India, situated next to the Gateway of India. Built in the Indo-Saracenic style, it opened in 1903 as the Taj Mahal Hotel and has historically often been known simply as \"The Taj\". The hotel is named after the Taj Mahal, which is located in the city of Agra approximately 1,050 kilometres (650 mi) from Mumbai. It has been considered one of the finest hotels in the East since the time of the British Raj. The hotel was one of the main targets in the 2008 Mumbai attacks.\n",
      "Part of the Taj Hotels Resorts and Palaces, the hotel has 560 or 600 rooms and 44 suites and is considered the flagship property of the group; it employs 1,600 staff. The hotel is made up of two different structures: the Taj Mahal Palace and the Tower, which are historically and architecturally distinct from each other (the Taj Mahal Palace was built in 1903; the Tower was opened in 1972).\n",
      "The hotel has received many notable guests, from presidents to captains of industry and movie stars. Rattanbai Petit, wife of Muhammad Ali Jinnah, spent the last days of her life in one of the suites of the hotel, and eventually died there in 1929, at the age of 29.\n",
      "\n",
      "\n",
      "\n",
      "Page: Taj Mahal (musician)\n",
      "Summary: Henry St. Claire Fredericks Jr. (born May 17, 1942), better known by his stage name Taj Mahal, is an American blues musician. He plays the guitar, piano, banjo, harmonica, and many other instruments, often incorporating elements of world music into his work. Mahal has done much to reshape the definition and scope of blues music over the course of his more than 50-year career by fusing it with nontraditional forms, including sounds from the Caribbean, Africa, India, Hawaii, and the South Pacific.\n",
      "\n",
      "\u001b[0m\n",
      "Thought:\u001b[32;1m\u001b[1;3mQuestion: Two lines on Indian monument tajmahal.\n",
      "Thought: I need to find two lines about the Indian monument Taj Mahal.\n",
      "\n",
      "Action: wikipedia\n",
      "Action Input: Taj Mahal\u001b[0m\n",
      "Observation: \u001b[36;1m\u001b[1;3mPage: Taj Mahal\n",
      "Summary: The Taj Mahal ( TAHJ mə-HAHL, TAHZH -⁠, Hindi: [taːdʒ ˈmɛɦ(ɛ)l]; lit. 'Crown of the Palace') is an ivory-white marble mausoleum on the right bank of the river Yamuna in Agra, Uttar Pradesh, India. It was commissioned in 1631 by the fifth Mughal emperor, Shah Jahan (r. 1628–1658) to house the tomb of his beloved wife, Mumtaz Mahal; it also houses the tomb of Shah Jahan himself. The tomb is the centrepiece of a 17-hectare (42-acre) complex, which includes a mosque and a guest house, and is set in formal gardens bounded on three sides by a crenellated wall.\n",
      "Construction of the mausoleum was completed in 1648, but work continued on other phases of the project for another five years. The first ceremony held at the mausoleum was an observance by Shah Jahan, on 6 February 1643, of the 12th anniversary of the death of Mumtaz Mahal. The Taj Mahal complex is believed to have been completed in its entirety in 1653 at a cost estimated at the time to be around ₹5 million, which in 2023 would be approximately ₹35 billion (US$77.8 million).\n",
      "The building complex incorporates the design traditions of Indo-Islamic and Mughal architecture. It employs symmetrical constructions with the usage of various shapes and symbols. While the mausoleum is constructed of white marble inlaid with semi-precious stones, red sandstone was used for other buildings in the complex similar to the Mughal era buildings of the time. The construction project employed more than 20,000 workers and artisans under the guidance of a board of architects led by Ustad Ahmad Lahori, the emperor's court architect.\n",
      "The Taj Mahal was designated as a UNESCO World Heritage Site in 1983 for being \"the jewel of Islamic art in India and one of the universally admired masterpieces of the world's heritage\". It is regarded as one of the best examples of Mughal architecture and a symbol of Indian history. The Taj Mahal is a major tourist attraction and attracts more than five million visitors a year. In 2007, it was declared a winner of the New 7 Wonders of the World initiative.\n",
      "\n",
      "Page: Taj Mahal Palace Hotel\n",
      "Summary: The Taj Mahal Palace is a heritage, five-star, luxury hotel in the Colaba area of Mumbai, Maharashtra, India, situated next to the Gateway of India. Built in the Indo-Saracenic style, it opened in 1903 as the Taj Mahal Hotel and has historically often been known simply as \"The Taj\". The hotel is named after the Taj Mahal, which is located in the city of Agra approximately 1,050 kilometres (650 mi) from Mumbai. It has been considered one of the finest hotels in the East since the time of the British Raj. The hotel was one of the main targets in the 2008 Mumbai attacks.\n",
      "Part of the Taj Hotels Resorts and Palaces, the hotel has 560 or 600 rooms and 44 suites and is considered the flagship property of the group; it employs 1,600 staff. The hotel is made up of two different structures: the Taj Mahal Palace and the Tower, which are historically and architecturally distinct from each other (the Taj Mahal Palace was built in 1903; the Tower was opened in 1972).\n",
      "The hotel has received many notable guests, from presidents to captains of industry and movie stars. Rattanbai Petit, wife of Muhammad Ali Jinnah, spent the last days of her life in one of the suites of the hotel, and eventually died there in 1929, at the age of 29.\n",
      "\n",
      "\n",
      "\n",
      "Page: Taj Mahal (musician)\n",
      "Summary: Henry St. Claire Fredericks Jr. (born May 17, 1942), better known by his stage name Taj Mahal, is an American blues musician. He plays the guitar, piano, banjo, harmonica, and many other instruments, often incorporating elements of world music into his work. Mahal has done much to reshape the definition and scope of blues music over the course of his more than 50-year career by fusing it with nontraditional forms, including sounds from the Caribbean, Africa, India, Hawaii, and the South Pacific.\n",
      "\n",
      "\u001b[0m\n",
      "Thought:\u001b[32;1m\u001b[1;3mThought: I can now extract two lines from the information about the Indian monument Taj Mahal.\n",
      "\n",
      "Final Answer: The Taj Mahal ( TAHJ mə-HAHL, TAHZH -⁠, Hindi: [taːdʒ ˈmɛɦ(ɛ)l]; lit. 'Crown of the Palace') is an ivory-white marble mausoleum on the right bank of the river Yamuna in Agra, Uttar Pradesh, India. It was commissioned in 1631 by the fifth Mughal emperor, Shah Jahan (r. 1628–1658) to house the tomb of his beloved wife, Mumtaz Mahal; it also houses the tomb of Shah Jahan himself.\u001b[0m\n",
      "\n",
      "\u001b[1m> Finished chain.\u001b[0m\n"
     ]
    },
    {
     "data": {
      "text/plain": [
       "\"The Taj Mahal ( TAHJ mə-HAHL, TAHZH -\\u2060, Hindi: [taːdʒ ˈmɛɦ(ɛ)l]; lit.\\u2009'Crown of the Palace') is an ivory-white marble mausoleum on the right bank of the river Yamuna in Agra, Uttar Pradesh, India. It was commissioned in 1631 by the fifth Mughal emperor, Shah Jahan (r.\\u20091628–1658) to house the tomb of his beloved wife, Mumtaz Mahal; it also houses the tomb of Shah Jahan himself.\""
      ]
     },
     "execution_count": 79,
     "metadata": {},
     "output_type": "execute_result"
    }
   ],
   "source": [
    "agent.run(\"Two lines on Indian monument tajmahal.\")"
   ]
  },
  {
   "cell_type": "code",
   "execution_count": null,
   "metadata": {},
   "outputs": [],
   "source": []
  }
 ],
 "metadata": {
  "kernelspec": {
   "display_name": "chatenv",
   "language": "python",
   "name": "python3"
  },
  "language_info": {
   "codemirror_mode": {
    "name": "ipython",
    "version": 3
   },
   "file_extension": ".py",
   "mimetype": "text/x-python",
   "name": "python",
   "nbconvert_exporter": "python",
   "pygments_lexer": "ipython3",
   "version": "3.12.4"
  }
 },
 "nbformat": 4,
 "nbformat_minor": 2
}
