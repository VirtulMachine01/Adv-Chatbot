{
 "cells": [
  {
   "cell_type": "code",
   "execution_count": 4,
   "metadata": {},
   "outputs": [
    {
     "name": "stdout",
     "output_type": "stream",
     "text": [
      "Select the sorting algorithm you want to learn:\n",
      "1. Bubble Sort\n",
      "2. Quick Sort\n",
      "3. Merge Sort\n",
      "4. Insertion Sort\n",
      "5. Selection Sort\n"
     ]
    }
   ],
   "source": [
    "def select_algorithm():\n",
    "    sorting_algorithms = [\"Bubble Sort\", \"Quick Sort\", \"Merge Sort\", \"Insertion Sort\", \"Selection Sort\"]\n",
    "    print(\"Select the sorting algorithm you want to learn:\")\n",
    "    for i, algo in enumerate(sorting_algorithms, 1):\n",
    "        print(f\"{i}. {algo}\")\n",
    "    choice = int(input(\"Enter the number of your choice: \"))\n",
    "    return sorting_algorithms[choice - 1]\n",
    "\n",
    "selected_algorithm = select_algorithm()\n"
   ]
  },
  {
   "cell_type": "code",
   "execution_count": 19,
   "metadata": {},
   "outputs": [
    {
     "data": {
      "text/plain": [
       "'Bubble Sort'"
      ]
     },
     "execution_count": 19,
     "metadata": {},
     "output_type": "execute_result"
    }
   ],
   "source": [
    "selected_algorithm"
   ]
  },
  {
   "cell_type": "code",
   "execution_count": 20,
   "metadata": {},
   "outputs": [],
   "source": [
    "import os\n",
    "from dotenv import load_dotenv\n",
    "from langchain_groq import ChatGroq\n",
    "\n",
    "load_dotenv()\n",
    "\n",
    "## Load the Groq API\n",
    "os.environ['GROQ_API_KEY'] = os.getenv(\"GROQ_API_KEY\")\n",
    "llm=ChatGroq(model_name = \"llama-3.2-11b-text-preview\")\n"
   ]
  },
  {
   "cell_type": "code",
   "execution_count": 24,
   "metadata": {},
   "outputs": [],
   "source": [
    "response = llm.invoke(f\"Give a brief introduction of 5-6 lines about the {str(selected_algorithm)} algorithm.\")"
   ]
  },
  {
   "cell_type": "code",
   "execution_count": 25,
   "metadata": {},
   "outputs": [
    {
     "name": "stdout",
     "output_type": "stream",
     "text": [
      "Bubble Sort is a simple sorting algorithm that works by repeatedly iterating through a list of elements and swapping adjacent elements if they are in the wrong order. The process is repeated until the list is sorted in ascending or descending order. This algorithm is known for its simplicity, but it has a high time complexity of O(n^2) for large datasets. Despite this, it is often used in educational settings to introduce the concept of sorting algorithms. Bubble Sort is an in-place sorting algorithm, meaning it does not require extra storage space. It is also stable, meaning the order of equal elements is preserved.\n"
     ]
    }
   ],
   "source": [
    "print(response.content)"
   ]
  },
  {
   "cell_type": "code",
   "execution_count": 29,
   "metadata": {},
   "outputs": [
    {
     "name": "stdout",
     "output_type": "stream",
     "text": [
      "Question:  Here's a Socratic question that can help guide the student's understanding of Bubble Sort:\n",
      "\n",
      "\"Suppose we have an array [5, 2, 8, 3, 1, 6, 4] that we want to sort using Bubble Sort. After the first pass, how would the array change? Think about how the largest element (8) interacts with the elements around it. Can you describe the exact sequence of swaps that would occur?\"\n",
      "\n",
      "This question encourages the student to think about the specific steps involved in the first pass of Bubble Sort, and to consider how the algorithm works in practice.\n"
     ]
    }
   ],
   "source": [
    "def generate_question(algorithm, previous_answers=[]):\n",
    "    # Dynamically generate a question based on the student's progress\n",
    "    prompt = f\"You are a teaching assistant for sorting algorithms. The student is learning {algorithm}. Generate a Socratic question that is appropriate to their current understanding.\"\n",
    "    if previous_answers:\n",
    "        prompt += \" The student has answered the following so far: \" + str(previous_answers)\n",
    "    \n",
    "    response = llm.invoke(prompt)\n",
    "    return response.content\n",
    "\n",
    "question = generate_question(selected_algorithm)\n",
    "print(\"Question: \", question)\n"
   ]
  },
  {
   "cell_type": "code",
   "execution_count": 30,
   "metadata": {},
   "outputs": [
    {
     "name": "stdout",
     "output_type": "stream",
     "text": [
      "Follow-up:  Based on the student's response, it appears that they have a basic understanding of the concept of Bubble Sort and how it works to move the largest element to the end of the array. However, their response falls short in several key areas.\n",
      "\n",
      "Firstly, the student's response is overly simplistic. They only mention the largest element (8) moving to the end of the array, without considering the interactions with the other elements. They do not think about the specifics of the first pass, such as the number of comparisons and swaps that occur.\n",
      "\n",
      "Secondly, the student's response lacks clarity and precision. They use vague language, such as \"After the first pass,\" which could refer to anything. They also fail to provide a clear and concise description of the exact sequence of swaps that would occur.\n",
      "\n",
      "Lastly, the student's response does not demonstrate a clear understanding of the algorithm's behavior in practice. They do not consider what happens in the case of multiple passes or how the algorithm handles elements that are not the largest in the array.\n",
      "\n",
      "To guide the student towards a deeper understanding, a follow-up question could be:\n",
      "\n",
      "\"Okay, let's take a closer look at the first pass. Suppose we compare the elements in the array [5, 2, 8, 3, 1, 6, 4]. What is the first comparison that would be made? What is the second comparison? And so on. Can you describe the exact sequence of comparisons and swaps that would occur during the first pass?\"\n",
      "\n",
      "This follow-up question encourages the student to think more deeply about the specifics of the algorithm and to provide a clear and concise description of the comparisons and swaps that occur during the first pass. It also allows the student to practice their communication skills and to demonstrate their understanding of the algorithm's behavior in practice.\n"
     ]
    }
   ],
   "source": [
    "def analyze_answer(algorithm, question, user_answer):\n",
    "    # Ask the LLM to analyze the answer and decide next step\n",
    "    prompt = f\"As a Socratic teacher, analyze the student's response to this question: '{question}' The student answered: '{user_answer}'. Based on this, generate a follow-up question or provide feedback.\"\n",
    "    \n",
    "    response = llm.invoke(prompt)\n",
    "    return response.content\n",
    "\n",
    "user_answer = input(\"Your Answer: \")\n",
    "follow_up = analyze_answer(selected_algorithm, question, user_answer)\n",
    "print(\"Follow-up: \", follow_up)\n"
   ]
  },
  {
   "cell_type": "code",
   "execution_count": 31,
   "metadata": {},
   "outputs": [
    {
     "name": "stdout",
     "output_type": "stream",
     "text": [
      "Next step:  Since the student answered that the largest element (8) has moved to the end of the array after the first pass, which is correct, let's generate a next more complex question to guide their understanding.\n",
      "\n",
      "Here's a question:\n",
      "\n",
      "\"Now that we have an array [5, 2, 3, 1, 4, 6] after the first pass of Bubble Sort, how would the array change after the second pass? Think about how the largest remaining unsorted element (6) interacts with the elements around it. Can you describe the exact sequence of swaps that would occur?\"\n",
      "\n",
      "This question encourages the student to think about the specific steps involved in the second pass of Bubble Sort, and to consider how the algorithm works in practice for subsequent passes.\n"
     ]
    }
   ],
   "source": [
    "def socratic_followup(question, user_answer):\n",
    "    prompt = f\"The question was: '{question}'. The student answered: '{user_answer}'. If the answer was wrong, generate a simpler, guiding question. If it was correct, generate the next more complex question.\"\n",
    "    \n",
    "    response = llm.invoke(prompt)\n",
    "    return response.content\n",
    "\n",
    "simplified_question_or_feedback = socratic_followup(question, user_answer)\n",
    "print(\"Next step: \", simplified_question_or_feedback)\n"
   ]
  },
  {
   "cell_type": "code",
   "execution_count": 32,
   "metadata": {},
   "outputs": [
    {
     "name": "stdout",
     "output_type": "stream",
     "text": [
      "Next Question/Feedback:  Since the student did not provide an answer, I will assume they need guidance. Here's a simpler guiding question to help them understand the basic mechanics of Bubble Sort:\n",
      "\n",
      "\"Suppose you have a list of 2 numbers: [5, 2]. How many comparisons do you need to make to sort this list using Bubble Sort?\"\n",
      "\n",
      "This question breaks down the basics of Bubble Sort for the student, focusing on the minimum number of comparisons required to sort a small list. Once they answer this question correctly, we can move on to the original question.\n",
      "Question:  Here's another Socratic question tailored to the student's current understanding of Bubble Sort:\n",
      "\n",
      "\"Consider a list of 6 numbers being sorted using Bubble Sort: [6, 3, 2, 8, 1, 5]. After the first pass (i.e., after comparing every pair of adjacent elements and swapping them if they are in the wrong order), we notice that the largest element (6) has 'bubbled' up to the end of the list. However, we then have to compare the new elements that are now adjacent to each other (3 and 2). \n",
      "\n",
      "If we denote the number of comparisons made during this first pass as 'n * (n - 1) / 2', where n is the number of elements in the list, then what percentage of the total number of comparisons is wasted in this scenario? Can you justify your calculation and what it implies about the efficiency of Bubble Sort?\"\n",
      "Next Question/Feedback:  It seems the student did not provide an answer to the question. However, I'll assume that the student is starting fresh.\n",
      "\n",
      "To address the question, let's break it down:\n",
      "\n",
      "In the first pass of Bubble Sort, there are 5 comparisons made (6, 3, 2, 8, 1, 5). However, when we compare 3 and 2, we know that 2 is smaller than 3. Therefore, the comparison between 3 and 2 is unnecessary because we already know that 2 will end up in its correct position. This means that 2 comparisons are made unnecessarily during the first pass.\n",
      "\n",
      "The total number of comparisons during the first pass is indeed 'n * (n - 1) / 2', which is (6 * 5) / 2 = 15. However, we've determined that 2 of these comparisons are unnecessary.\n",
      "\n",
      "To find the percentage of the total number of comparisons that are wasted, divide the unnecessary comparisons by the total number of comparisons and multiply by 100:\n",
      "\n",
      "(2 / 15) * 100 = 13.33%\n",
      "\n",
      "This implies that about 13.33% of the total comparisons are wasted in the first pass of Bubble Sort.\n",
      "\n",
      "A guiding question to move to the next level of complexity could be:\n",
      "\n",
      "'In the second pass of Bubble Sort, how many comparisons are made unnecessarily? Can you justify your calculation, and what does it imply about the efficiency of Bubble Sort?'\n",
      "Question:  Based on the student's previous understanding of Bubble Sort, here's a new Socratic question tailored to their current level of understanding:\n",
      "\n",
      "\"Consider a list of 8 numbers being sorted using Bubble Sort: [7, 4, 3, 9, 2, 6, 8, 5]. After the first pass, the maximum element (9) has 'bubbled' up to the end of the list. Now, let's say we want to optimize the algorithm by stopping the pass as soon as we've made a full cycle without any swaps. In other words, if no swaps were made during a pass, we can conclude that the list is already sorted and there's no need to continue with the next pass. \\n\\nSuppose you are given a list of 10 numbers to sort using this optimized Bubble Sort. Can you describe a strategy for keeping track of whether any swaps were made during the pass, and if so, how can you use this information to exit the pass early and potentially improve the overall efficiency of the algorithm?\"\n",
      "Next Question/Feedback:  Since the student's answer is blank, it seems they didn't provide a solution. In that case, we need to guide them to the correct answer.\n",
      "\n",
      "Here's a simpler guiding question to help the student understand the concept:\n",
      "\n",
      "**Guiding Question**\n",
      "\n",
      "\"Let's say you're checking the list after each pass to see if any swaps were made. How can you keep track of whether any swaps were made during the pass? For example, let's say you have a variable 'swapped' that's initially set to False. What needs to happen to make 'swapped' True?\"\n",
      "\n",
      "This question is simpler and focuses on the basic concept of keeping track of swaps. Once the student answers correctly, we can move on to the next question.\n",
      "\n",
      "**Answer for Guiding Question**\n",
      "\n",
      "To keep track of whether any swaps were made during the pass, you can set the 'swapped' variable to True as soon as you make a swap. Here's a simple example:\n",
      "\n",
      "```python\n",
      "swapped = False\n",
      "for i in range(len(arr) - 1):\n",
      "    if arr[i] > arr[i + 1]:\n",
      "        # Swap arr[i] and arr[i + 1]\n",
      "        arr[i], arr[i + 1] = arr[i + 1], arr[i]\n",
      "        swapped = True\n",
      "```\n",
      "\n",
      "If the student answers correctly, we can move on to the next question.\n"
     ]
    }
   ],
   "source": [
    "previous_answers = []\n",
    "while True:\n",
    "    question = generate_question(selected_algorithm, previous_answers)\n",
    "    print(\"Question: \", question)\n",
    "    \n",
    "    user_answer = input(\"Your Answer: \")\n",
    "    feedback_or_next_question = socratic_followup(question, user_answer)\n",
    "    print(\"Next Question/Feedback: \", feedback_or_next_question)\n",
    "    \n",
    "    previous_answers.append((question, user_answer))\n",
    "    \n",
    "    # Exit condition for the loop (e.g., when a full understanding is reached)\n",
    "    if \"Congratulations\" in feedback_or_next_question:\n",
    "        break\n"
   ]
  },
  {
   "cell_type": "code",
   "execution_count": null,
   "metadata": {},
   "outputs": [],
   "source": []
  }
 ],
 "metadata": {
  "kernelspec": {
   "display_name": "chatenv",
   "language": "python",
   "name": "python3"
  },
  "language_info": {
   "codemirror_mode": {
    "name": "ipython",
    "version": 3
   },
   "file_extension": ".py",
   "mimetype": "text/x-python",
   "name": "python",
   "nbconvert_exporter": "python",
   "pygments_lexer": "ipython3",
   "version": "3.12.4"
  }
 },
 "nbformat": 4,
 "nbformat_minor": 2
}
