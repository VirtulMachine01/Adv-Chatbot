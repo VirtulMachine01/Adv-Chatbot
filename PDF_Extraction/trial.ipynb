{
 "cells": [
  {
   "cell_type": "code",
   "execution_count": null,
   "metadata": {},
   "outputs": [],
   "source": [
    "import pdfplumber\n",
    "def extract_text_from_pdf(pdf_path):\n",
    "    all_text = \"\"\n",
    "    with pdfplumber.open(pdf_path) as pdf:\n",
    "        for page in pdf.pages:\n",
    "            text = page.extract_text()\n",
    "            if text:\n",
    "                all_text += text + \"\\n\\n\\n\\n\"\n",
    "    return all_text"
   ]
  },
  {
   "cell_type": "code",
   "execution_count": null,
   "metadata": {},
   "outputs": [],
   "source": [
    "# Path to your PDF file\n",
    "pdf_path = 'data/pdf4.pdf'\n",
    "\n",
    "# Extract text from the PDF\n",
    "extracted_text = extract_text_from_pdf(pdf_path)\n",
    "print(extracted_text)"
   ]
  },
  {
   "cell_type": "code",
   "execution_count": null,
   "metadata": {},
   "outputs": [],
   "source": [
    "# from langchain import PromptTemplate\n",
    "from langchain_groq import ChatGroq\n",
    "# from langchain.chains.summarize import load_summarize_chain\n",
    "# from langchain.text_splitter import RecursiveCharacterTextSplitter\n",
    "import os\n",
    "from dotenv import load_dotenv\n",
    "load_dotenv()\n",
    "\n",
    "## Load the Groq API\n",
    "os.environ['GROQ_API_KEY'] = os.getenv(\"GROQ_API_KEY\")\n",
    "# summarization_model = ChatGroq(model_name = \"llama-3.1-70b-versatile\")\n",
    "summarization_model = ChatGroq(model_name = \"llama-3.1-8b-instant\")\n"
   ]
  },
  {
   "cell_type": "code",
   "execution_count": null,
   "metadata": {},
   "outputs": [],
   "source": [
    "# text_splitter = RecursiveCharacterTextSplitter(chunk_size = 1000, chunk_overlap=20)\n",
    "# chunks = text_splitter.create_documents([extracted_text])"
   ]
  },
  {
   "cell_type": "code",
   "execution_count": null,
   "metadata": {},
   "outputs": [],
   "source": [
    "# len(chunks)"
   ]
  },
  {
   "cell_type": "code",
   "execution_count": null,
   "metadata": {},
   "outputs": [],
   "source": [
    "from deep_translator import GoogleTranslator\n",
    "from transformers import pipeline\n",
    "import textwrap\n",
    "\n",
    "# Load the summarization model\n",
    "# summarization_model = pipeline(\"summarization\", model=\"facebook/bart-large-cnn\")\n",
    "\n",
    "def translate_text(text):\n",
    "    \"\"\"Translate Chinese text to English using Deep Translator.\"\"\"\n",
    "    try:\n",
    "        translated_text = GoogleTranslator(source='zh-CN', target='en').translate(text)\n",
    "        return translated_text\n",
    "    except Exception as e:\n",
    "        print(f\"Error during translation: {e}\")\n",
    "        return \"\"\n",
    "\n",
    "def summarize_text(text):\n",
    "    text = f\"Summarize the following text in 50-60 words only. '{text}'\"\n",
    "    \"\"\"Summarize English text.\"\"\"\n",
    "    try:\n",
    "        # Check if text is not empty\n",
    "        if len(text) > 0:\n",
    "            # Ensure the text is within the summarization model's limits\n",
    "            summary = summarization_model.invoke(text)\n",
    "            return summary\n",
    "        else:\n",
    "            print(\"No text to summarize.\")\n",
    "            return \"\"\n",
    "    except Exception as e:\n",
    "        print(f\"Error during summarization: {e}\")\n",
    "        return \"\"\n",
    "\n",
    "def process_long_text(long_text, chunk_size=1000):\n",
    "    \"\"\"Process a long text: translate and summarize.\"\"\"\n",
    "    # Split the long text into manageable chunks\n",
    "    chunks = textwrap.wrap(long_text, width=chunk_size, break_long_words=False)\n",
    "    \n",
    "    translated_chunks = []\n",
    "    for chunk in chunks:\n",
    "        translated_chunk = translate_text(chunk)\n",
    "        if translated_chunk:  # Ensure translated chunk is not empty\n",
    "            translated_chunks.append(translated_chunk)\n",
    "    \n",
    "    # Combine all translated chunks\n",
    "    combined_translated_text = \" \".join(translated_chunks)\n",
    "    print(combined_translated_text)\n",
    "\n",
    "    # Only summarize if we have valid translated text\n",
    "    if combined_translated_text.strip():  # Check if there's any valid translated text\n",
    "        summary = summarize_text(combined_translated_text)\n",
    "        return summary\n",
    "    else:\n",
    "        return \"No valid translated text available for summarization.\""
   ]
  },
  {
   "cell_type": "code",
   "execution_count": null,
   "metadata": {},
   "outputs": [],
   "source": [
    "long_chinese_text = extracted_text # Your long Chinese text here\n",
    "print(long_chinese_text)"
   ]
  },
  {
   "cell_type": "code",
   "execution_count": null,
   "metadata": {},
   "outputs": [],
   "source": [
    "# Process the long text\n",
    "english_summary = process_long_text(long_chinese_text)"
   ]
  },
  {
   "cell_type": "code",
   "execution_count": null,
   "metadata": {},
   "outputs": [],
   "source": [
    "from pprint import pprint\n",
    "pprint(english_summary.content)"
   ]
  },
  {
   "cell_type": "markdown",
   "metadata": {},
   "source": [
    "MAP REDUCE"
   ]
  },
  {
   "cell_type": "code",
   "execution_count": null,
   "metadata": {},
   "outputs": [],
   "source": [
    "from langchain.document_loaders import PyPDFLoader\n",
    "pdf_file = \"data/pdf1.pdf\"\n",
    "pdf_loader = PyPDFLoader(pdf_file)\n",
    "pages = pdf_loader.load_and_split()\n",
    "pages"
   ]
  },
  {
   "cell_type": "code",
   "execution_count": null,
   "metadata": {},
   "outputs": [],
   "source": [
    "pages[0].page_content"
   ]
  },
  {
   "cell_type": "code",
   "execution_count": null,
   "metadata": {},
   "outputs": [],
   "source": []
  },
  {
   "cell_type": "code",
   "execution_count": null,
   "metadata": {},
   "outputs": [],
   "source": [
    "from langchain.prompts import PromptTemplate\n",
    "map_prompt_template = \"\"\"\n",
    "Write a summary of this chunk of text that includes the main points and any important details. just write in 40-50 words.\n",
    "{text}\n",
    "\"\"\"\n",
    "\n",
    "main_prompt = PromptTemplate(template = map_prompt_template, input_variables=[\"text\"])\n",
    "\n",
    "combined_prompt_template = \"\"\"\n",
    "Write a concise summary of the following text delimited by triple backquotes.\n",
    "Return your response in bullet points which covers the key points of the text.\n",
    "```{text}```\n",
    "BULLET POINT SUMMARY:\n",
    "\"\"\"\n",
    "\n",
    "combine_prompt = PromptTemplate(\n",
    "    template=combined_prompt_template, input_variables=[\"text\"]\n",
    ")"
   ]
  },
  {
   "cell_type": "code",
   "execution_count": null,
   "metadata": {},
   "outputs": [],
   "source": [
    "# from langchain import PromptTemplate\n",
    "from langchain_groq import ChatGroq\n",
    "# from langchain.chains.summarize import load_summarize_chain\n",
    "# from langchain.text_splitter import RecursiveCharacterTextSplitter\n",
    "import os\n",
    "from dotenv import load_dotenv\n",
    "load_dotenv()\n",
    "\n",
    "## Load the Groq API\n",
    "os.environ['GROQ_API_KEY'] = os.getenv(\"GROQ_API_KEY\")\n",
    "summarization_model = ChatGroq(model_name = \"llama-3.1-70b-versatile\")\n",
    "# summarization_model = ChatGroq(model_name = \"llama-3.1-8b-instant\")"
   ]
  },
  {
   "cell_type": "code",
   "execution_count": null,
   "metadata": {},
   "outputs": [],
   "source": [
    "from langchain.chains import load_summarize_chain\n",
    "map_reduce_cahin = load_summarize_chain(\n",
    "    summarization_model,\n",
    "    chain_type=\"map_reduce\",\n",
    "    combine_prompt=combine_prompt,\n",
    "    return_intermediate_steps = True,    \n",
    ")"
   ]
  },
  {
   "cell_type": "code",
   "execution_count": null,
   "metadata": {},
   "outputs": [],
   "source": [
    "from deep_translator import GoogleTranslator \n",
    "from langchain_core.documents import Document\n",
    "# Function to translate and reformat documents\n",
    "def translate_documents(documents):\n",
    "    translated_docs = []\n",
    "    \n",
    "    for doc in documents:\n",
    "        # Translate the content\n",
    "        translated_content = GoogleTranslator(source='zh-CN', target='en').translate(doc.page_content)\n",
    "        \n",
    "        # Create a new Document with the translated content\n",
    "        translated_doc = Document(metadata=doc.metadata, page_content=translated_content)\n",
    "        \n",
    "        # Append the new Document to the list\n",
    "        translated_docs.append(translated_doc)\n",
    "    \n",
    "    return translated_docs\n",
    "translated_docs = translate_documents(pages)"
   ]
  },
  {
   "cell_type": "code",
   "execution_count": null,
   "metadata": {},
   "outputs": [],
   "source": [
    "translated_docs"
   ]
  },
  {
   "cell_type": "code",
   "execution_count": null,
   "metadata": {},
   "outputs": [],
   "source": [
    "len(translated_docs)"
   ]
  },
  {
   "cell_type": "code",
   "execution_count": null,
   "metadata": {},
   "outputs": [],
   "source": []
  },
  {
   "cell_type": "markdown",
   "metadata": {},
   "source": [
    "GENERATE PDF OF TRANSLATED TEXT"
   ]
  },
  {
   "cell_type": "code",
   "execution_count": null,
   "metadata": {},
   "outputs": [],
   "source": [
    "from fpdf import FPDF\n",
    "FONT_SIZE = 8\n",
    "FONT_STYLE = \"Arial\"\n",
    "MARGIN = 10\n",
    "LINE_SPACE = 5\n",
    "PDF_NAME = \"multi_page_document.pdf\"\n",
    "\n",
    "# Create a PDF object\n",
    "pdf = FPDF(orientation='P', unit='mm', format='A4') # P:portrait, L:Landscape, 'mm': Millimeters (default), 'pt': Points (1 point = 1/72 of an inch), 'cm': Centimeters, 'in': Inches\n",
    "pdf.set_auto_page_break(auto=True, margin=MARGIN)\n",
    "pdf.set_font(FONT_STYLE, size=FONT_SIZE)\n",
    "\n",
    "# Loop through each Document object and add its content to a new page\n",
    "for doc in translated_docs:\n",
    "    pdf.add_page()\n",
    "    pdf.multi_cell(0, LINE_SPACE, doc.page_content.encode('latin-1', 'replace').decode('latin-1'))  # Encode with 'replace' to handle unsupported chars\n",
    "\n",
    "# Save the PDF file\n",
    "pdf_filename = PDF_NAME\n",
    "pdf.output(pdf_filename)\n",
    "\n",
    "print(f\"PDF '{pdf_filename}' created successfully.\")"
   ]
  },
  {
   "cell_type": "code",
   "execution_count": null,
   "metadata": {},
   "outputs": [],
   "source": [
    "# map_reduce_output = map_reduce_cahin({\"input_documents\":pages})\n",
    "# map_reduce_output"
   ]
  },
  {
   "cell_type": "code",
   "execution_count": null,
   "metadata": {},
   "outputs": [],
   "source": [
    "translated_docs[0:5]"
   ]
  },
  {
   "cell_type": "code",
   "execution_count": null,
   "metadata": {},
   "outputs": [],
   "source": [
    "response = map_reduce_cahin({\"input_documents\":translated_docs})\n",
    "response['output_text']"
   ]
  },
  {
   "cell_type": "code",
   "execution_count": null,
   "metadata": {},
   "outputs": [],
   "source": [
    "print(response['output_text'])"
   ]
  },
  {
   "cell_type": "code",
   "execution_count": null,
   "metadata": {},
   "outputs": [],
   "source": [
    "from pathlib import Path\n",
    "final_mp_data = []\n",
    "for doc, out in zip(response[\"input_documents\"], response[\"intermediate_steps\"]):\n",
    "    output = {}\n",
    "    output[\"file_name\"] = Path(doc.metadata[\"source\"]).stem\n",
    "    output[\"file_type\"] = Path(doc.metadata[\"source\"]).suffix\n",
    "    output[\"page_number\"] = doc.metadata[\"page\"]\n",
    "    output[\"chunks\"] = doc.page_content\n",
    "    output[\"concise_summary\"] = out\n",
    "    final_mp_data.append(output)"
   ]
  },
  {
   "cell_type": "code",
   "execution_count": null,
   "metadata": {},
   "outputs": [],
   "source": [
    "import pandas as pd\n",
    "pdf_mp_summary = pd.DataFrame.from_dict(final_mp_data)\n",
    "pdf_mp_summary = pdf_mp_summary.sort_values(by=[\"file_name\", \"page_number\"])\n",
    "pdf_mp_summary.reset_index(inplace=True, drop=True)\n",
    "pdf_mp_summary.head()"
   ]
  },
  {
   "cell_type": "markdown",
   "metadata": {},
   "source": [
    "PAGE WISE SUMMARY"
   ]
  },
  {
   "cell_type": "code",
   "execution_count": null,
   "metadata": {},
   "outputs": [],
   "source": [
    "index = 1\n",
    "print(\"[Context]\")\n",
    "print(pdf_mp_summary[\"chunks\"].iloc[index])\n",
    "print(\"\\n\\n[Simple Summary]\")\n",
    "print(pdf_mp_summary[\"concise_summary\"].iloc[index])\n",
    "print(\"\\n\\n[Page number]\")\n",
    "print(pdf_mp_summary[\"page_number\"].iloc[index])\n",
    "print(\"\\n\\n[Source: file_name]\")\n",
    "print(pdf_mp_summary[\"file_name\"].iloc[index])"
   ]
  },
  {
   "cell_type": "markdown",
   "metadata": {},
   "source": [
    "PPT or PPTX READER"
   ]
  },
  {
   "cell_type": "code",
   "execution_count": 1,
   "metadata": {},
   "outputs": [
    {
     "name": "stdout",
     "output_type": "stream",
     "text": [
      "Page 1: 学习资料  仅供参考 认真学好用好《准则》《条例》 把党规党纪刻印在全体党员心上 西北工业大学纪委办公室 2015年11月5日\n",
      "Page 2: 把党规党纪刻印在全体党员心上 2015年10月18日        中共中央颁布实施新修订的《中国共产党廉洁自律准则》和《中国共产党纪律处分条例》。 2016年1月1日       《准则》和《条例》的颁布实施，是在党长期执政和全面依法治国条件下，实现依规管党治党、加强党内监督的重大举措，体现了党的十八大和十八届三中、四中全会精神以及全面从严治党实践成果。     《中国共产党廉洁自律准则》和《中国共产党纪律处分条例》将正式施行。\n",
      "Page 3: 把党规党纪刻印在全体党员心上        近日，中共中央办公厅印发了《关于认真学习贯彻〈中国共产党廉洁自律准则〉和〈中国共产党纪律处分条例〉的通知》，要求： 充分认识学习贯彻《准则》《条例》的重要意义 认真组织《准则》和《条例》的学习宣传教育 切实抓好《准则》和《条例》的贯彻实施\n",
      "Page 4: 把党规党纪刻印在全体党员心上 10月29日，中央纪委印发《通知》，要求： 把学习贯彻《准则》和《条例》作为落实全面从严治党要求的重要抓手 把学习贯彻《准则》和《条例》体现到监督执纪问责全过程 加强对学习贯彻《准则》和《条例》情况的监督检查 自觉做学习贯彻《准则》和《条例》的表率\n",
      "Page 5:    一、 学习《准则》、《条例》                              的意义    二、《中国共产党廉洁自律              准则》修订情况    三、《中国共产党纪律处分             条例》修订情况 学习内容    四、 《准则》、《条例》             的关系    五、 几点要求\n",
      "Page 6: （一）体制机制层面题   一、学习《准则》、《条例》的意义 治国理政的要求：办好中国的事情，关键在党。治国必先治党，治党务必从严。当前我们面临着党的领导弱化和组织涣散、纪律松弛的严峻挑战。加强纪律建设是全面从严治党的治本之策。 时代发展的要求：新修订的《准则》和《条例》，把十八大以来从严治党的实践成果总结提炼出来，转化为道德和纪律要求，实现了党内法规建设的与时俱进。\n",
      "Page 7: （一）体制机制层面题   一、学习《准则》、《条例》的意义 从严治党的要求：全面从严治党，必然要求依规治党和以德治党相结合。新修订的《准则》和《条例》体现了依规治党和以德治党的统一。 依法治校的要求：深入学习贯彻落实两部党内法规，完善学校治理体系，提升学校治理能力，为学校制定实施“十三五”发展规划和学校长远发展保驾护航。\n",
      "Page 8:    一、 学习《准则》、《条例》             的意义    二、《中国共产党廉洁自律              准则》修订情况    三、《中国共产党纪律处分             条例》修订情况 学习内容    四、 《准则》、《条例》             的关系    五、 几点要求\n",
      "Page 9: （一）体制机制层面题   二、《准则》修订情况：必要性 原《廉政准则》是在1997年《中国共产党党员领导干部廉洁从政若干准则（试行）》的基础上修订而成的，2010年1月颁布实施。存在的主要问题： 1  适用对象过窄——仅对党员领导干部提出规范，未能涵盖8700多万全体党员。\n",
      "  2  缺少正面倡导——其中“8个禁止”“52个不准”均为“负面清单”，许多条款与修订前《党纪处分条例》和国家法律重复。\n",
      "  3  “廉洁”主题不够突出——有一些内容与廉洁主题无直接关联。\n",
      "Page 10: （一）体制机制层面题   二、《准则》修订情况：主要变化 修订前                                                         修订后\n",
      "4部分  18条  3600余字                                          3部分  8条  281字\n",
      "名称                   中国共产党党员领导干部廉洁从政若干准则  中国共产党廉洁自律准则\n",
      "框架                   总则                                    党员廉洁自律规范\n",
      "                       第一章 廉洁从政行为规范                 党员领导干部廉洁自律规范\n",
      "                       第二章 实施与监督\n",
      "                       第三章 附则\n",
      "Page 11: “五大亮点” （一）体制机制层面题   二、《准则》修订情况：内容 紧扣廉洁自律，去除与其无直接关系的条文。 坚持正面倡导，将“8个禁止”和“52个不准”有关负面清单有关内容移入同步修订的《中国共产党纪律处分条例》。 从面向党员领导干部扩大到全体党员，充分体现全面从严治党要求。 突出关键少数，抓住党员领导干部这个重点，提出比普通党员更高的要求。 删繁就简，使全体党员易懂易记。\n",
      "Page 12: “四个必须” （一）体制机制层面题   二、《准则》修订情况：内容 必须坚定共产主义理想和中国特色社会主义信念； 必须坚持全心全意为人民服务根本宗旨； 必须继承发扬党的优良传统和作风； 必须自觉培养高尚道德情操，努力弘扬中华民族传统美德，廉洁自律，接受监督，永葆党的先进性和纯洁性。\n",
      "Page 13: “八条规范” （一）体制机制层面题   一、《准则》修订情况：内容 党员廉洁自律规范                                        党员领导干部廉洁自律规范\n",
      "（4对关系）                                             （4个维度）\n",
      "第一条              坚持公私分明，先公后私，克己奉公。  第五条                      廉洁从政，自觉保持人民公仆本色。\n",
      "第二条              坚持崇廉拒腐，清白做人，干净做事。  第六条                      廉洁用权，自觉维护人民根本利益。\n",
      "第三条              坚持尚俭戒奢，艰苦朴素，勤俭节约。  第七条                      廉洁修身，自觉提升思想道德境界。\n",
      "第四条              坚持吃苦在前，享受在后，甘于奉献。  第八条                      廉洁齐家，自觉带头树立良好家风。\n",
      "Page 14:    一、 学习《准则》、《条例》             的意义    二、《中国共产党廉洁自律              准则》修订情况    三、《中国共产党纪律处分             条例》修订情况 学习内容    四、 《准则》、《条例》             的关系    五、 几点要求\n",
      "Page 15: （一）体制机制层面题   三、《条例》修订情况：必要性 原《中国共产党纪律处分条例》是在1997年《中国共产党纪律处分条例（试行）》的基础上修订而成的，2003年12月颁布实施。存在的主要问题： 1  对违反党章、损害党章权威的违纪行为，缺乏必要和严肃的责任追究。\n",
      "  2  纪法不分，近半数条款与刑法等国家法律规定重复，将适用于全体公民的法律规范作为党组织和党员的纪律标准，降低了对党组织和党员的要求。\n",
      "  3  有必要将党的十八大以来从严治党的实践成果制度化，将严明政治纪律和政治规矩、组织纪律，落实中央八项规定精神、反对“四风”等内容纳入条例。\n",
      "Page 16: （一）体制机制层面题   三、《条例》修订情况：五大亮点\n",
      "Page 17: （一）体制机制层面题   三、《条例》修订情况：总体变化 《条例》修订后的总体变化\n",
      "一增                        增加了过去忽视、遗漏的条款，十八大以来有关从严治党、严明政治纪律和政治规矩、组织纪律、中央八项规定精神、反对“四风”等内容，纳入修订后的纪律处分条例。\n",
      "一减                        删除了原条例中79条与法律法规重复的规定，代之以党组织和党员必须“模范遵守国家法律法规”，党组织和党员“违反国家法律法规”“都必须受到追究”等专门规定，以实现党纪与国法的既相互分开又有效衔接。\n",
      "一整合                      将现行条例规定的10类违纪行为整合修订为6类，分为对违反政治纪律、组织纪律、廉洁纪律、群众纪律、工作纪律、生活纪律行为的处分。\n",
      "Page 18: （一）体制机制层面题   三、《条例》修订情况：框架 修订前                                 修订后\n",
      "3编 12章 178条 24000余字               3编 11章 133条 17000余字\n",
      "第一编  总  则                         第一编  总  则\n",
      "  第一章 指导思想、原则和适用范围        第一章 指导思想、原则和适用范围\n",
      "  第二章 违纪与纪律处分                  第二章 违纪与纪律处分\n",
      "  第三章 纪律处分运用规则                第三章 纪律处分运用规则\n",
      "  第四章 对违法犯罪党员的纪律处分        第四章 对违法犯罪党员的纪律处分\n",
      "  第五章 其他规定                        第五章 其他规定\n",
      "第二编  分  则                         第二编  分  则\n",
      "  第六章 违反政治纪律的行为              第六章 对违反政治纪律行为的处分\n",
      "  第七章 违反组织纪律、人事纪律的行为    第七章 对违反组织纪律行为的处分\n",
      "  第八章 违反廉洁自律规定的行为          第八章 对违反廉洁纪律行为的处分\n",
      "  第九章 贪污贿赂处分                    第九章 对违反群众纪律行为的处分\n",
      "  第十章 破坏社会主义经济秩序的行为      第十章 对违反工作纪律行为的处分\n",
      "  第十一章 违反财经纪律的行为            第十一章 对违反生活纪律行为的处分\n",
      "  第十二章 失职、渎职行为\n",
      "第三编  附  则                         第三编  附  则\n",
      "Page 19: （一）体制机制层面题   三、《条例》修订情况：第一编内容 突出强化党章意识，强化党章权威 设置专门条款实现党纪与国法的有效衔接 1. 指导思想、原则和适用范围    5条 违纪与纪律处分    10条 纪律处分运用规则    11条 对违法犯罪党员的纪律处分    8条 其他规定    10条 2. 3. 4. 5.\n",
      "Page 20: （一）体制机制层面题   三、《条例》修订情况：各章变化 第一编 总  则\n",
      "第一章           指导思想、原则和适用范围（1-5条）\n",
      "                 对条例的指导思想、原则和适用范围作出规定，突出强化党章意识，维护党章权威，增加了党组织和党员必须自觉遵守党章，严格执行和维护党的纪律，自觉接受党的纪律约束，模范遵守国家法律法规的规定。\n",
      "第二章           违纪与纪律处分（6-15条）\n",
      "                 对违纪概念、纪律处分种类及其影响等作出规定，将严重警告的影响期由原来的一年修改为一年半；增加了党的各级代表大会的代表受到留党察看以上（含留党察看）处分，党组织应当终止其代表资格的规定。\n",
      "Page 21: （一）体制机制层面题   三、《条例》修订情况：各章变化 第一编 总  则\n",
      "第三章           纪律处分运用规则（16-26条）\n",
      "                 对纪律处分运用规则作出规定，将在纪律集中整饬过程中，不收敛、不收手列为从重或者加重处分的情形。\n",
      "第四章           对违法犯罪党员的纪律处分（27-34条）\n",
      "                 对涉嫌违法犯罪党员的纪律处分作出规定，以设定专门条款的方式实现党纪与国法的有效衔接，增加了中止被依法逮捕的党员的表决权、选举权和被选举权等党员权利的内容。\n",
      "Page 22: （一）体制机制层面题   三、《条例》修订情况：各章变化 第一编 总  则\n",
      "第五章           其他规定（35-44条）\n",
      "                 对预备党员违纪及违纪后下落不明党员的处理以及处分决定的执行等作出规定，明确了相关党纪处分决定作出后，办理职务、工资等相应变更手续的最长时限。\n",
      "Page 23: （一）体制机制层面题   二、《条例》修订情况：第二编内容 第六章至第十一章 六大纪律 原条例10类违纪行为整合为6类 删除79条与法律法规重复内容\n",
      "Page 24: （一）体制机制层面题   三、《条例》修订情况：第二编内容 政治纪律——是党的各级组织和全体党员在政治方向、政治立场、政治言论和政治行为方面必须遵守的行为准则，是维护党的团结统一的根本保证。政治纪律严明，全党才能在政治上高度统一、行动上步调一致，才能团结带领全国人民全面建成小康社会、夺取中国特色社会主义新胜利。\n",
      "Page 25: （一）体制机制层面题   三、《条例》修订情况：第二编内容 违反政治纪律 共18条        发表危害党的言论等；破坏党的团结统一等；损害中央权威、妨碍党和国家方针政策实施；对抗组织审查；组织和参加迷信活动；叛逃及在涉外活动中损害党和国家尊严利益；违反政治规矩等\n",
      "Page 26: （一）体制机制层面题   三、《条例》修订情况：各章变化 第二编 分  则\n",
      "第六章           对违反政治纪律行为的处分（45-62条）\n",
      "                 增加：拉帮结派、对抗组织审查、组织或者参加迷信活动、搞无原则一团和气以及违反党的优良传统和工作惯例等党的规矩等。\n",
      "Page 27: （一）体制机制层面题   二、《条例》修订情况：第二编内容 违反政治纪律（45-62条）  第四十五条 公开发表、发布坚持资产阶级自由化立场、反对四项基本原则，反对党的改革开放决策的言论的。 第四十六条 通过信息网络、广播、电视、报刊、书籍、讲座、论坛、报告会、座谈会等方式，有下列行为：     （一）公开发表违背四项基本原则，违背、歪曲党的改革开放决策，或者其他有严重政治问题的文章、演说、宣言、声明的；     （二）妄议中央大政方针，破坏党的集中统一的；     （三）丑化党和国家形象，或者诋毁、诬蔑党和国家领导人，或者歪曲党史、军史的。\n",
      "Page 28: （一）体制机制层面题   二、《条例》修订情况：第二编内容 违反政治纪律（45-62条）  第四十七条 制作、贩卖、传播、私自携带、寄递上述书刊、音像制品、电子读物、网络音视频资料的。 第四十八条 组织、参加反对党的基本理论、基本路线、基本纲领、基本经验、基本要求或者重大方针政策的。 第四十九条 组织、参加旨在反对党的领导、反对社会主义制度或者敌视政府等组织的。 第五十条 组织、参加会道门或者邪教组织的。 第五十一条 在党内组织，参加秘密集团或者组织、参加其他分裂党的活动的。\n",
      "Page 29: （一）体制机制层面题   二、《条例》修订情况：第二编内容 违反政治纪律（45-62条）  第五十二条 在党内搞团团伙伙、结党营私、拉帮结派、培植私人势力或者通过搞利益交换、为自己营造声势等活动捞取政治资本的。 第五十三条 有下列行为之一：     （一）拒不执行党和国家的方针政策以及决策部署的；     （二）故意作出与党和国家的方针政策以及决策部署相违背的决定的；     （三）擅自对应当由中央决定的重大政策问题作出决定和对外发表主张的。 第五十四条 挑拨民族关系制造事端或者参加民族分裂活动的。\n",
      "Page 30: （一）体制机制层面题   二、《条例》修订情况：第二编内容 违反政治纪律（45-62条）  第五十五条 组织、利用宗教活动反对党的路线、方针、政策和决议，破坏民族团结的。 第五十六条 组织、利用宗族势力对抗党和政府，妨碍党和国家的方针政策以及决策部署的实施，或者破坏党的基层组织建设的。 第五十七条 对抗组织审查，有下列行为之一：     （一）串供或者伪造、销毁、转移、隐匿证据的；     （二）阻止他人揭发检举、提供证据材料的；     （三）包庇同案人员的；\n",
      "Page 31: （一）体制机制层面题   二、《条例》修订情况：第二编内容 违反政治纪律（45-62条）      （四）向组织提供虚假情况，掩盖事实的。     （五）有其他对抗组织审查行为。 第五十八条 组织、参加迷信活动的。 第五十九条 在国（境）外、外国驻华使（领）馆申请政治避难，或者违纪后逃往国（境）外、外国驻华使（领）馆的；在国（境）外公开发表反对党和政府的文章、演说、宣言、声明等的；故意为上述行为提供方便条件的。 第六十条 在涉外活动中，其言行在政治上造成恶劣影响，损害党和国家尊严、利益的。\n",
      "Page 32: （一）体制机制层面题   二、《条例》修订情况：第二编内容 违反政治纪律（45-62条）  第六十一条 党员领导干部对违反政治纪律和政治规矩等错误思想和行为放任不管，搞无原则一团和气，造成不良影响的。 第六十二条 违反党的优良传统和工作惯例等党的规矩，在政治上造成不良影响的。\n",
      "Page 33: 案例：损害中央权威、妨碍党和国家方针政策实施行为 被巡视单位和部门干扰、对抗巡视工作的行为。 比如，有的单位在巡视组入驻前一周，把各部门主要负责人换掉，导致巡视组在谈话中无法掌握具体情况；有些单位领导要求下属与巡视组谈话结束后，回来汇报谈话情况；还有一些领导干部，拉关系、托人情，试图找巡视组组长、副组长打听消息。 巡视是党章赋予的重要职责，是加强党内监督的战略性制度安排，中央巡视组代表的是中央。上述行为妨碍中央巡视工作的开展，损害了中央权威，严重违反了政治纪律和政治规矩。 \n",
      "Page 34: （一）体制机制层面题   三、《条例》修订情况：第二编内容 组织纪律——是规范和处理党的各级组织之间、党组织与党员之间以及党员与党员之间关系的行为规则，是维护党的集中统一、保持党的战斗力的重要保证。\n",
      "Page 35: （一）体制机制层面题   二、《条例》修订情况：第二编内容 违反组织纪律 共17条        违反民主集中制原则等；侵犯党员权利；违反组织工作原则等；违规办理因私出国（境）证件和在国（境）外擅自脱离组织等\n",
      "Page 36: （一）体制机制层面题   二、《条例》修订情况：各章变化 第二编 分  则\n",
      "第七章           对违反组织纪律行为的处分（63-79条）\n",
      "                 增加：不如实向组织说明问题、不执行请示报告制度、不如实报告个人有关事项，篡改、伪造个人档案资料，隐瞒入党前严重错误，党员领导干部违反有关规定组织、参加自发成立的老乡会、校友会、战友会，违规取得国（境）外居留权或者外国国籍，违规办理因私出国（境）证件等违纪条款。\n",
      "Page 37: （一）体制机制层面题   二、《条例》修订情况：第二编内容 违反组织纪律（63-79条） 第六十三条 违反民主集中制原则，拒不执行或者擅自改变党组织作出的重大决定，或者违反议事规则，个人或者少数人决定重大问题的。 第六十四条 下级党组织不得拒不执行或者擅自改变上级党组织决定的；在特殊时期或者紧急状况下，拒不执行党组织决定的。 第六十五条 拒不执行党组织的分配、调动、交流等决定。 第六十六条 不按照有关规定或者工作要求，向组织请示报告重大问题、重要事项；不按要求报告或者不如实报告个人去向的。 第六十七条 有下列行为之一：\n",
      "Page 38: （一）体制机制层面题   二、《条例》修订情况：第二编内容 违反组织纪律（63-79条）     （一）违反个人有关事项报告规定，不报告、不如实报告的；     （二）在组织进行谈话、函询时，不如实向组织说明问题的；     （三）不如实填报个人档案资料的。      篡改、伪造个人档案资料；隐瞒入党前严重错误的。 第六十八条 党员领导干部违反有关规定组织、参加自发成立的老乡会、校友会、战友会等。 第六十九条 诬告陷害他人意在使他人受纪律追究的。 第七十条 侵犯党员的表决权、选举权和被选举权的。\n",
      "Page 39: （一）体制机制层面题   二、《条例》修订情况：第二编内容 违反组织纪律（63-79条） 第七十一条 有下列行为之一的：     （一）对批评、检举、控告进行阻挠、压制，或者将批评、检举、控告材料私自扣压、销毁，或者故意将其泄露给他人的；     （二）对党员的申辩、辩护、作证等进行压制，造成不良后果的；     （三）压制党员申诉，造成不良后果的，或者不按照有关规定处理党员申诉的；     （四）有其他侵犯党员权利行为，造成不良后果的。        对批评人、检举人、控告人、证人及其他人员打击报复的，党组织有上述行为的。\n",
      "Page 40: （一）体制机制层面题   二、《条例》修订情况：第二编内容 违反组织纪律（63-79条） 第七十二条 有下列行为之一的：     （一）在民主推荐、民主测评、组织考察和党内选举中搞拉票、助选等非组织活动的；     （二）在法律规定的投票、选举活动中违背组织原则搞非组织活动，组织、怂恿、诱使他人投票、表决的；     （三）在选举中进行其他违反党章、其他党内法规和有关章程活动的。 第七十三条 在干部选拔任用工作中，违反干部选拔任用规定的；用人失察失误造成严重后果的。\n",
      "Page 41: （一）体制机制层面题   二、《条例》修订情况：第二编内容 违反组织纪律（63-79条） 第七十四条 在干部、职工的录用、考核、职务晋升、职称评定和征兵、安置复转军人等工作中，隐瞒、歪曲事实真相，或者利用职权或者职务上的影响违反有关规定为本人或者其他人谋取利益的；弄虚作假，骗取职务、职级、职称、待遇、资格、学历、学位、荣誉或者其他利益的。 第七十五条 违反党章和其他党内法规的规定，采取弄虚作假或者其他手段把不符合党员条件的人发展为党员，或者为非党员出具党员身份证明的；违反有关规定程序发展党员的。 第七十六条 违反有关规定取得外国国籍或者获取国（境）外永久居留资格、长期居留许可的。\n",
      "Page 42: （一）体制机制层面题   二、《条例》修订情况：第二编内容 违反组织纪律（63-79条） 第七十七条 违反有关规定办理因私出国（境）证件、前往港澳通行证，或者未经批准出入国（边）境的。 第七十八条 驻外机构或者临时出国（境）团（组）中的党员擅自脱离组织的，从事外事、机要、军事等工作的党员违反有关规定同国（境）外机构、人员联系和交往的。 第七十九条 驻外机构或者临时出国（境）团（组）中的党员，脱离组织出走时间不满六个月又自动回归的；脱离组织出走时间超过六个月的；故意为他人脱离组织出走提供方便条件的。\n",
      "Page 43: 案例：不如实报告个人事项，对抗组织审查 聊城大学原党委常委、副校长孙兰雨被“双开” 日前，山东省纪委对聊城大学原党委常委、副校长孙兰雨严重违纪违法问题立案审查。       经查，孙兰雨违反组织纪律，不如实报告个人有关事项；违反廉洁自律规定收受礼金；利用职务便利贪污公共财物；利用职务便利为他人谋取利益，索取、收受贿赂，数额巨大。其中贪污、受贿问题涉嫌犯罪。       孙兰雨身为党员领导干部，严重违纪违法，且党的十八大后不收敛、不收手；与他人订立攻守同盟，转移涉案财产，对抗组织审查。依据《中国共产党纪律处分条例》、《事业单位工作人员处分暂行规定》等规定，经省纪委、省监察厅研究并报省委、省政府批准，决定给予孙兰雨开除党籍、开除公职处分；收缴其违纪所得；将其涉嫌犯罪问题、线索及所涉款物移送司法机关依法处理。 \n",
      "Page 44: 案例：违反有关规定办理因私出国（境）证件、前往港澳通行证，或者未经批准出入国（边）境 东北师范大学原党委常委、副校长张治国被“双开”             日前，经教育部党组、吉林省委批准，吉林省纪委、中央纪委驻教育部纪检组对东北师范大学原党委常委、副校长张治国严重违纪问题进行了立案审查。       经查，张治国严重违反党的政治规矩和组织纪律，欺瞒组织，办理并使用假身份证，非法出入边境；严重违反廉洁纪律，从事营利活动；严重违反工作纪律，利用职务上的便利，在企业经营等方面为他人谋取利益，收受款物；严重违反生活纪律，与他人通奸。其行为已构成严重违纪，性质恶劣，情节严重，其中收受款物问题涉嫌犯罪。       依据《中国共产党纪律处分条例》等有关规定，经吉林省纪委常委会议审议并报吉林省委批准，决定给予张治国开除党籍处分，追缴张治国违纪所得。依据《事业单位工作人员处分暂行规定》，教育部决定给予张治国行政开除处分。张治国涉嫌犯罪问题、线索已移送司法机关依法处理。\n",
      "Page 45: （一）体制机制层面题   三、《条例》修订情况：第二编内容 廉洁纪律——是党组织和党员在从事公务活动或者其他与行使职权有关的活动中，应当遵守的廉洁用权的行为规则，是实现干部清正、政府清廉、政治清明的重要保障。\n",
      "Page 46: （一）体制机制层面题   三、《条例》修订情况：第二编内容 违反廉洁纪律 共25条        以权谋私；违规接受礼品礼金和服务等；违规从事营利活动；违反工作生活待遇规定等；违规占有、使用公款公务等；违反厉行节约反对浪费规定；权色交易等\n",
      "Page 47: （一）体制机制层面题   三、《条例》修订情况：各章变化 第二编 分  则\n",
      "第八章           对违反廉洁纪律行为的处分（80-104条）\n",
      "                 增加：权权交易，赠送明显超出正常礼尚往来的礼品、礼金、消费卡，违规取得、持有和实际使用各种消费卡，违规出入私人会所，离职或退（离）休后违规从事营利活动等。\n",
      "Page 48: （一）体制机制层面题   三、《条例》修订情况：第二编内容 违反廉洁纪律（80-104条） 第八十条 利用职权或者职务上的影响为他人谋取利益，本人的配偶、子女及其配偶等亲属和其他特定关系人收受对方财物的。 第八十一条 相互利用职权或者职务上的影响为对方及其配偶、子女及其配偶等亲属、身边工作人员和其他特定关系人谋取利益搞权权交易的。 第八十二条 纵容、默许配偶、子女及其配偶等亲属和身边工作人员利用党员干部本人职权或者职务上的影响谋取私利的；党员干部的配偶、子女及其配偶不实际工作而获取薪酬或者虽实际工作但领取明显超出同职级标准薪酬，党员干部知情未予纠正的。\n",
      "Page 49: （一）体制机制层面题   三、《条例》修订情况：第二编内容 违反廉洁纪律（80-104条） 第八十三条 收受可能影响公正执行公务的礼品、礼金、消费卡等；收受其他明显超出正常礼尚往来的礼品、礼金、消费卡等的。 第八十四条 向从事公务的人员及其配偶、子女及其配偶等亲属和其他特定关系人赠送明显超出正常礼尚往来的礼品、礼金、消费卡等。 第八十五条 利用职权或者职务上的影响操办婚丧喜庆事宜，在社会上造成不良影响的；在操办婚丧喜庆事宜中，借机敛财或者有其他侵犯国家、集体和人民利益行为的。 第八十六条 接受可能影响公正执行公务的宴请或者旅游、健身、娱乐等活动安排的。\n",
      "Page 50: （一）体制机制层面题   三、《条例》修订情况：第二编内容 违反廉洁纪律（80-104条） 第八十七条 违反有关规定取得、持有、实际使用运动健身卡、会所和俱乐部会员卡、高尔夫球卡等各种消费卡，或者违反有关规定出入私人会所，的。 第八十八条 违反有关规定从事营利活动，有下列行为之一: 　　（一）经商办企业的； 　　（二）拥有非上市公司（企业）的股份或者证券的； 　　（三）买卖股票或者进行其他证券投资的； 　　（四）从事有偿中介活动的；\n",
      "Page 51: （一）体制机制层面题   三、《条例》修订情况：第二编内容 违反廉洁纪律（80-104条） 　　（五）在国（境）外注册公司或者投资入股的； 　　（六）有其他违反有关规定从事营利活动的。        利用职权或者职务上的影响，为本人配偶、子女及其配偶等亲属和其他特定关系人的经营活动谋取利益的；违反有关规定在经济实体、社会团体等单位中兼职，或者经批准兼职但获取薪酬、奖金、津贴等额外利益的。 第八十九条 党员领导干部离职或者退（离）休后违反有关规定接受原任职务管辖的地区和业务范围内的企业和中介机构的聘任，或者个人从事与原任职务管辖业务相关的营利活动的；党员领导干部离职或者退（离）休后违反有关规定担任上市公司、基金管理公司独立董事、独立监事等职务的。\n",
      "Page 52: （一）体制机制层面题   三、《条例》修订情况：第二编内容 违反廉洁纪律（80-104条） 第九十条 党员领导干部的配偶、子女及其配偶，违反有关规定在该党员领导干部管辖的区域或者业务范围内从事可能影响其公正执行公务的经营活动，或者在该党员领导干部管辖的区域或者业务范围内的外商独资企业、中外合资企业中担任由外方委派、聘任的高级职务的。 第九十一条 党和国家机关违反有关规定经商办企业的。 第九十二条 党员领导干部违反工作、生活保障制度，在交通、医疗、警卫等方面为本人、配偶、子女及其配偶等亲属和其他特定关系人谋求特殊待遇的。\n",
      "Page 53: （一）体制机制层面题   三、《条例》修订情况：第二编内容 违反廉洁纪律（80-104条） 第九十三条 在分配、购买住房中侵犯国家、集体利益的。 第九十四条 利用职权或者职务上的影响，侵占非本人经管的公私财物，或者以象征性地支付钱款等方式侵占公私财物，或者无偿、象征性地支付报酬接受服务、使用劳务的；利用职权或者职务上的影响，将本人、配偶、子女及其配偶等亲属应当由个人支付的费用，由下属单位、其他单位或者他人支付、报销的。 第九十五条 利用职权或者职务上的影响，违反有关规定占用公物归个人使用的；占用公物进行营利活动的；将公物借给他人进行营利活动的。\n",
      "Page 54: （一）体制机制层面题   三、《条例》修订情况：第二编内容 违反廉洁纪律（80-104条） 第九十六条 违反有关规定组织、参加用公款支付的宴请、高消费娱乐、健身活动，或者用公款购买赠送、发放礼品的。 第九十七条 违反有关规定自定薪酬或者滥发津贴、补贴、奖金等。 第九十八条 有下列行为之一的：     （一）用公款旅游、借公务差旅之机旅游或者以公务差旅为名变相旅游的；     （二）以考察、学习、培训、研讨、招商、参展等名义变相用公款出国（境）旅游的。\n",
      "Page 55: （一）体制机制层面题   三、《条例》修订情况：第二编内容 违反廉洁纪律（80-104条） 第九十九条 违反公务接待管理规定，超标准、超范围接待或者借机大吃大喝的。 第一百条 违反有关规定配备、购买、更换、装饰、使用公务用车或者有其他违反公务用车管理规定的行为。 第一百零一条 违反会议活动管理规定，有下列行为之一：     （一）到禁止召开会议的风景名胜区开会的；     （二）决定或者批准举办各类节会、庆典活动的。      擅自举办评比达标表彰活动或者借评比达标表彰活动收取费用的。\n",
      "Page 56: （一）体制机制层面题   三、《条例》修订情况：第二编内容 违反廉洁纪律（80-104条） 第一百零二条 违反办公用房管理规定，有下列行为之一：    （一）决定或者批准兴建、装修办公楼、培训中心等楼堂馆所，超标准配备、使用办公用房的；     （二）用公款包租、占用客房或者其他场所供个人使用的。 第一百零三条 搞权色交易或者给予财物搞钱色交易的。 第一百零四条 有其他违反廉洁纪律规定行为的。\n",
      "Page 57: 案例1：利用职权或者职务上的影响操办婚丧喜庆事宜，在社会上造成不良影响 北京交通大学后勤服务产业集团副总经理杨金泉借女儿婚宴违规收受礼金问题。       2014年11月8日，杨金泉为女儿婚庆宴请北京交通大学相关部门人员、后勤服务产业集团正式工、合同工及务工人员共计61人，收受同事及下属礼金45266元。杨金泉受到党内警告处分，并退还收受的同事及下属礼金。因履行监督责任不力，北京交通大学纪委副书记、监察处处长王宏军受到党内警告处分。\n",
      "Page 58: 案例2： 西安理工大学校长刘丁、党委书记周孝德等被处分。 日前，陕西省纪委对西安理工大学校长、党委副书记刘丁，西安理工大学党委书记周孝德，西安理工大学总会计师赵明扬涉嫌违纪问题进行了立案调查。        经查，刘丁在担任西安理工大学校长期间，违反财经纪律，对学校横向科研经费管理混乱问题负有主要领导责任；周孝德作为西安理工大学党委书记，对学校横向科研经费管理混乱问题负有重要领导责任；赵明扬作为西安理工大学总会计师，对学校横向科研经费管理混乱问题负有重要监管责任。        依据《中国共产党纪律处分条例》、《事业单位工作人员处分暂行规定》等，经省纪委常委会审议并报省委、省政府批准，决定给予刘丁撤销党内职务、撤职处分，给予周孝德党内警告处分，给予赵明扬警告处分。\n",
      "Page 59: 案例3： 南昌大学原校长周文斌涉嫌受贿、挪用公款被处理。 2015年1月12日，南昌大学原校长周文斌涉嫌受贿、挪用公款案在南昌市中级人民法院继续公开开庭审理，公诉人接连拿出两组证据，证明周文斌在南昌大学新校区工程承建中，收受两家建筑公司贿赂共计人民币790万元、港币30万元。\n",
      "Page 60: 案例4： 北京邮电大学原教授宋茂强冒名领取劳务费案 2010年9月至2011年6月间，宋茂强利用审批和分配科研资金的职务便利，伙同其妻借用他人身份证件办理银行存折冒名领取劳务费，将68万元课题经费据为己有，部分款项用于个人消费和购买理财产品，并以签订虚假劳务合同的方式应对财务审计。后来主动到案，在案发前退还了全部赃款。宋茂强被终审判定犯贪污罪，被判刑10年6个月。\n",
      "Page 61: （一）体制机制层面题   三、《条例》修订情况：第二编内容 群众纪律——是党组织和党员在贯彻执行党的群众路线和处理党群关系过程中必须遵循的行为规则。群众纪律是党的性质和宗旨的体现，是密切党与群众血肉联系的重要保证，更具有执政党纪律的特色。此次修订，将违反群众纪律的行为单设为一类，恢复了“三大纪律、八项注意”中关于群众纪律的优良传统，以保持党与人民群众的血肉联系。\n",
      "Page 62: （一）体制机制层面题   三、《条例》修订情况：第二编内容 原条例10类违纪行为整合为6类 删除79条与法律法规重复内容 违反群众纪律 共8条        侵害群众利益；漠视群众利益；侵害群众知情权等\n",
      "Page 63: （一）体制机制层面题   三、《条例》修订情况：各章变化 第二编 分  则\n",
      "第九章           对违反群众纪律行为的处分（105-112条）\n",
      "                 完善：超标准、超范围向群众筹资筹劳，在办理涉及群众事务时故意刁难、吃拿卡要，在社会保障、政策扶持、救灾救济款物分配等事项中优亲厚友、显失公平等侵害群众利益行为的违纪条款。\n",
      "                 增加：不按规定公开党务、政务、厂务、村（居）务等侵犯群众知情权行为的违纪条款。\n",
      "Page 64: （一）体制机制层面题   三、《条例》修订情况：第二编内容 违反群众纪律（105-112条）  第一百零五条 有下列行为之一的：     （一）超标准、超范围向群众筹资筹劳、摊派费用，加重群众负担的；     （二）违反有关规定扣留、收缴群众款物或者处罚群众的；     （三）克扣群众财物，或者违反有关规定拖欠群众钱款的；     （四）在管理、服务活动中违反有关规定收取费用的；     （五）在办理涉及群众事务时刁难群众、吃拿卡要的；     （六）有其他侵害群众利益行为的。\n",
      "Page 65: （一）体制机制层面题   三、《条例》修订情况：第二编内容 违反群众纪律（105-112条）  第一百零六条 干涉群众生产经营自主权，致使群众财产遭受较大损失的。 第一百零七条 在社会保障、政策扶持、救灾救济款物分配等事项中优亲厚友、明显有失公平的。 第一百零八条 有下列行为之一的。     （一）对涉及群众生产、生活等切身利益的问题依照政策或者有关规定能解决而不及时解决，造成不良影响的；     （二）对符合政策的群众诉求消极应付、推诿扯皮，损害党群、干群关系的；\n",
      "Page 66: （一）体制机制层面题   三、《条例》修订情况：第二编内容 违反群众纪律（105-112条）      （三）对待群众态度恶劣、简单粗暴，造成不良影响的；     （四）弄虚作假，欺上瞒下，损害群众利益的。 第一百零九条 不顾群众意愿，盲目铺摊子、上项目，致使国家、集体或者群众财产和利益遭受较大损失的。 第一百一十条 遇到国家财产和群众生命财产受到严重威胁时，能救而不救的。 第一百一十一条 不按照规定公开党务、政务、厂务、村（居）务等，侵犯群众知情权的。 第一百一十二条 有其他违反群众纪律规定行为的。\n",
      "Page 67: 案例：弄虚作假，欺上瞒下，损害群众利益 天津市内环建设开发公司经理潘振光：伪造拆迁手续，骗购定向安置经济适用房。       潘振光本人不符合购买定向安置经济适用房的条件，但利用职务上的便利，通过伪造手续，骗购定向安置经济适用房1套。随后，通过同样的方式，为其姐骗购定向安置经济适用房1套。至2013年12月，短短3年时间，通过伪造拆迁手续，潘振光多次为他人骗购定向安置经济适用房。       潘振光弄虚作假，欺上瞒下，使本该拆迁安置的群众利益受到巨大损失。同时，潘振光还存在违反政治纪律、廉洁纪律等违纪问题。2015年5月，潘振光被开除党籍；违纪所得被收缴。\n",
      "Page 68: （一）体制机制层面题   三、《条例》修订情况：第二编内容 工作纪律——是党组织和党员在党的各项具体工作中必须遵循的行为规则，是党组织和党员依规开展各项工作的重要保证。\n",
      "Page 69: （一）体制机制层面题   三、《条例》修订情况：第二编内容 违反工作纪律 共13条        党组织失职；滥用职权和玩忽职守；失泄密；违反外事工作纪律等\n",
      "Page 70: （一）体制机制层面题   三、《条例》修订情况：各章变化 第二编 分  则\n",
      "第十章           对违反工作纪律行为的处分（113-125条）\n",
      "                 增加：党组织不履行全面从严治党主体责任，违规干预和插手市场经济活动，违规干预和插手司法活动、执纪执法活动，泄露、扩散或者窃取涉密资料等违纪条款。\n",
      "Page 71: （一）体制机制层面题   三、《条例》修订情况：第二编内容 违反工作纪律（113-125条） 第一百一十三条 党组织负责人在工作中不负责任或者疏于管理，有下列情形之一，给党、国家和人民利益以及公共财产造成较大损失的：     （一）不传达贯彻、不检查督促落实党和国家的方针政策以及决策部署，或者作出违背党和国家方针政策以及决策部署的错误决策的；     （二）本地区、本部门、本系统和本单位发生公开反对党的基本理论、基本路线、基本纲领、基本经验、基本要求或者党和国家方针政策以及决策部署行为的。 第一百一十四条 党组织不履行全面从严治党主体责任或者履行全面从严治党主体责任不力，造成严重损害或者严重不良影响的。\n",
      "Page 72: （一）体制机制层面题   三、《条例》修订情况：第二编内容 违反工作纪律（113-125条） 第一百一十五条 党组织有下列行为之一：     （一）党员被依法判处刑罚后，不按照规定给予党纪处分，或者对违反国家法律法规的行为，应当给予党纪处分而不处分的；     （二）党纪处分决定或者申诉复查决定作出后，不按照规定落实决定中关于被处分人党籍、职务、职级、待遇等事项的；     （三）党员受到党纪处分后，不按照干部管理权限和组织关系对受处分党员开展日常教育、管理和监督工作的。 第一百一十六条 因工作不负责任致使所管理的人员叛逃的；因工作不负责任致使所管理的人员出走的。\n",
      "Page 73: （一）体制机制层面题   三、《条例》修订情况：第二编内容 违反工作纪律（113-125条） 第一百一十七条 在上级单位检查、视察工作或者向上级单位汇报、报告工作时对应当报告的事项不报告或者不如实报告，造成严重损害或者严重不良影响的。 第一百一十八条 党员领导干部违反有关规定干预和插手市场经济活动，有下列行为之一：     （一）干预和插手建设工程项目承发包、土地使用权出让、政府采购、房地产开发与经营、矿产资源开发利用、中介机构服务等活动的；     （二）干预和插手国有企业重组改制、兼并、破产、产权交易、清产核资、资产评估、资产转让、重大项目投资以及其他重大经营活动等事项的；\n",
      "Page 74: （一）体制机制层面题   三、《条例》修订情况：第二编内容 违反工作纪律（113-125条）     （三）干预和插手批办各类行政许可和资金借贷等事项的；     （四）干预和插手经济纠纷的；     （五）干预和插手集体资金、资产和资源的使用、分配、承包、租赁等事项的。 第一百一十九条 党员领导干部违反有关规定干预和插手司法活动、执纪执法活动，向有关地方或者部门打招呼、说情，或者以其他方式对司法活动、执纪执法活动施加影响的；党员领导干部违反有关规定干预和插手公共财政资金分配、项目立项评审、政府奖励表彰等活动，造成重大损失或者不良影响的。\n",
      "Page 75: （一）体制机制层面题   三、《条例》修订情况：第二编内容 违反工作纪律（113-125条） 第一百二十条 泄露、扩散或者窃取党组织关于干部选拔任用、纪律审查等尚未公开事项或者其他应当保密的内容的；私自留存涉及党组织关于干部选拔任用、纪律审查等方面资料的。 第一百二十一条 在考试、录取工作中，有泄露试题、考场舞弊、涂改考卷、违规录取等违反有关规定行为的。 第一百二十二条 以不正当方式谋求本人或者其他人用公款出国（境），情节较轻的。 第一百二十三条 临时出国（境）团（组）或者人员中的党员，擅自延长在国（境）外期限，或者擅自变更路线的。\n",
      "Page 76: （一）体制机制层面题   三、《条例》修订情况：第二编内容 违反工作纪律（113-125条） 第一百二十四条 驻外机构或者临时出国（境）团（组）中的党员，触犯驻在国家、地区的法律、法令或者不尊重驻在国家、地区的宗教习俗的。 第一百二十五条 在党的纪律检查、组织、宣传、统一战线工作以及机关工作等其他工作中，不履行或者不正确履行职责，造成损失或者不良影响的。\n",
      "Page 77: 案例：在工作中不负责任疏于管理，履行全面从严治党主体责任不力 新疆喀什地区教育学院原党委书记王鹏先：主体责任严重缺位坏了“班子”害了自己       2014年6月，新疆喀什地区纪委接到有关反映喀什地区教育学院党委书记、副院长王鹏先问题线索后，调查发现，王鹏先在工作中不负责任疏于管理，履行全面从严治党主体责任不力，致使喀什地区教育学院党委形同虚设。       在新校区建设过程中，召开三次党委会议，研究施工单位给学院“捐赠”车辆，先后收受4家中标施工企业5辆车；设立“小金库”用于账外开支。学院有关领导班子成员还商定，向施工企业收取罚款用于账外开支。王鹏先明知道这些做法不符合中央有关规定，但是他不仅没有履行全面从严治党主体责任，反而参与其中，为新校区项目办和实训基地违规购买车辆和请客送礼。王鹏先作为党组织负责人，对眼皮底下的违纪行为视而不见甚至主动参与，党的观念淡漠、纪律意识松弛。2015年2月，喀什地区党委决定，给予其留党察看二年处分。\n",
      "Page 78: （一）体制机制层面题   三、《条例》修订情况：第二编内容 生活纪律——是党员在日常生活和社会交往中应当遵守的行为规则，涉及党员个人品德、家庭美德、社会公德等各个方面，关系党的形象。\n",
      "Page 79: （一）体制机制层面题   二、《条例》修订情况：第二编内容 违反生活纪律 共4条        生活奢靡，违背家庭伦理和社会公德等\n",
      "Page 80: （一）体制机制层面题   二、《条例》修订情况：各章变化 第二编 分  则\n",
      "第十一章         对违反生活纪律行为的处分（126-129条）\n",
      "                 增加：生活奢靡行为，违背社会公序良俗行为等违纪条款。\n",
      "Page 81: （一）体制机制层面题   三、《条例》修订情况：第二编内容 违反生活纪律（126-129条） 第一百二十六条 生活奢靡、贪图享乐、追求低级趣味，造成不良影响的。 第一百二十七条 与他人发生不正当性关系，造成不良影响的；利用职权、教养关系、从属关系或者其他相类似关系与他人发生性关系的。 第一百二十八条 违背社会公序良俗，在公共场所有不当行为，造成不良影响的。 第一百二十九条 有其他严重违反社会公德、家庭美德行为的。\n",
      "Page 82: 案例：违背社会公序良俗，在公共场所有不当行为 　河南省三门峡市卢氏县文广新局原局长贾建涛：酒后寻衅滋事损坏他人车辆 　　2014年4月29日，三门峡市卢氏县文广新局原局长贾建涛,午餐期间违规饮酒。午餐后，发现自己乘坐的车辆被另一轿车堵住无法驶离，便损毁后车。在车主张某拦住准备离开的贾建涛要求赔偿时。“醉酒的男子先是坐在车里大骂，然后下车撕打张某。”一些目击者称，张某被扯拽了20多米，胳膊多处淤青红肿。       此事被河南广播电台及网络媒体报道后，在社会上造成不良影响。4月30日，经卢氏县委研究决定，免去贾建涛文广新局局长职务。通过调查取证、核实其违纪情况后，经卢氏县纪委研究决定，给予其党内严重警告处分。\n",
      "Page 83:    一、 学习《准则》、《条例》             的意义    二、《中国共产党廉洁自律              准则》修订情况    三、《中国共产党纪律处分             条例》修订情况 学习内容    四、 《准则》、《条例》             的关系    五、 几点要求\n",
      "Page 84: （一）体制机制层面题   四、《准则》和《条例》的关系 《准则》和《条例》体现了以德治党和依规治党相结合 《准则》                                                                                                                                                                《条例》\n",
      "重申党的理想信念宗旨、优良传统作风，紧扣廉洁自律、坚持正面倡导、面向全体党员、突出关键少数，强调自律，重在立德，为党员和党员领导干部树立了一个看得见、够得着的高标准。  坚持纪法分开、纪在法前、纪严于法，突出政党特色、党纪特色，严明政治纪律和政治规矩、组织纪律，围绕党纪戒尺要求，开列负面清单，强调他律，重在立规，划出了党组织和党员不可触碰的底线。\n",
      "立德向善：树立一条道德高线                                                                                                                                              立规惩恶：厘清一份负面清单\n",
      "《准则》和《条例》一正一反、相互配套\n",
      "Page 85:    一、 学习《准则》、《条例》             的意义    二、《中国共产党廉洁自律              准则》修订情况    三、《中国共产党纪律处分             条例》修订情况 学习内容    四、 《准则》、《条例》             的关系    五、 几点要求\n",
      "Page 86: （一）体制机制层面题   五、几点要求       根据中共中央《关于认真学习贯彻〈中国共产党廉洁自律准则〉和〈中国共产党纪律处分条例〉的通知》要求：        各级党组织要切实担当和落实好全面从严治党的主体责任，抓好《准则》的学习宣传、贯彻落实，把各项要求刻印在全体党员特别是党员领导干部心上。各级党员领导干部要发挥表率作用，以更高更严的要求，带头践行廉洁自律规范。广大党员要加强党性修养，保持和发扬党的优良传统作风，使廉洁自律规范内化于心、外化于行，坚持理想信念宗旨“高线”，永葆共产党人清正廉洁的政治本色。\n",
      "Page 87: （一）体制机制层面题   五、几点要求 学校纪委 要找准在全面从严治党中的职能定位，以修订后的两部党内法规作为重要依据，强化监督执纪，加大问责力度。 要以贯彻落实两部党内法规为契机，进一步探索建立不敢腐、不能腐、不想腐的有效机制。\n",
      "Page 88: （一）体制机制层面题   五、几点要求 各基层党委（党总支） 要把学习贯彻两部党内法规作为切实担当和落实好全面从严治党主体责任的重要抓手，坚决把管党治党政治责任落到实处。 抓好两部党内法规的贯彻落实。一是要坚持以党章为根本遵循，坚决维护党章权威；二是要坚持问题导向，把严守政治纪律和政治规矩放在首位；三是要坚持把纪律和规矩挺在前沿。\n",
      "Page 89: （一）体制机制层面题   五、几点要求 各有关部门 要结合本部门工作职责，精心组织《准则》和《条例》的学习宣传教育，做到全覆盖，切实提升对两部党内法规颁布实施重大意义的认识，切实增强学习贯彻执行的自觉性和主动性，切实理解两部法规的科学内涵，把党的纪律刻印在全体党员的心上。\n",
      "Page 90: （一）体制机制层面题   五、几点要求 广大党员 要自觉牢固树立党章党规党纪意识，做到守纪律、讲规矩，知敬畏、存戒惧，自觉在廉洁自律上追求高标准，在严守党纪上远离违纪红线，在全党逐渐形成尊崇制度、遵守制度、捍卫制度的良好风尚。\n",
      "Page 91: 谢 谢！\n"
     ]
    }
   ],
   "source": [
    "from langchain_community.document_loaders import UnstructuredPowerPointLoader\n",
    "\n",
    "def extract_text_from_ppt_pagewise(ppt_path):\n",
    "    # Load the PowerPoint file in elements mode\n",
    "    loader = UnstructuredPowerPointLoader(ppt_path, mode=\"elements\")\n",
    "    documents = loader.load()\n",
    "\n",
    "    # # Dictionary to hold text grouped by page number\n",
    "    # pagewise_text = {}\n",
    "\n",
    "    # # Group text based on page_number\n",
    "    # for doc in documents:\n",
    "    #     page_number = doc.metadata.get(\"page_number\", None)\n",
    "\n",
    "    #     # Skip if page_number is None or replace with a default page number (e.g., 0)\n",
    "    #     if page_number is None or not doc.page_content.strip():\n",
    "    #         continue  # You can use a default value or continue to skip None values.\n",
    "\n",
    "    #     # Initialize the key if not already present and concatenate text\n",
    "    #     if page_number not in pagewise_text:\n",
    "    #         pagewise_text[page_number] = doc.page_content\n",
    "    #     else:\n",
    "    #         pagewise_text[page_number] += f\" {doc.page_content}\"  # Concatenate with a space for better readability\n",
    "\n",
    "    # # Convert the grouped text to a list, sorted by page number\n",
    "    # pages_text = [text for _, text in sorted(pagewise_text.items())]\n",
    "\n",
    "    return documents\n",
    "\n",
    "# Example usage\n",
    "# ppt_path = \"data/20151014180939084157.ppt\"\n",
    "ppt_path = \"data/20151110.pptx\"\n",
    "page_text_list = extract_text_from_ppt_pagewise(ppt_path)\n",
    "\n",
    "# Print the concatenated text for each page\n",
    "for i, page_text in enumerate(page_text_list, 1):\n",
    "    print(f\"Page {i}: {page_text}\")"
   ]
  },
  {
   "cell_type": "markdown",
   "metadata": {},
   "source": [
    "REFINE "
   ]
  },
  {
   "cell_type": "code",
   "execution_count": null,
   "metadata": {},
   "outputs": [],
   "source": [
    "from langchain.prompts import PromptTemplate\n",
    "\n",
    "question_prompt_template = \"\"\"\n",
    "Please provide a summary of the following text.\n",
    "TEXT: {text}\n",
    "SUMMARY:\n",
    "\"\"\"\n",
    "\n",
    "question_prompt = PromptTemplate(template = question_prompt_template, input_variables=[\"text\"])\n",
    "\n",
    "refine_prompt_template = \"\"\"\n",
    "Write a concise summary of the following text delimited by triple backquotes.\n",
    "Return your response in bullet points which covers the key points of the text.\n",
    "```{text}```\n",
    "BULLET POINT SUMMARY:\n",
    "\"\"\"\n",
    "\n",
    "refine_prompt = PromptTemplate(\n",
    "    template=refine_prompt_template, input_variables=[\"text\"]\n",
    ")"
   ]
  },
  {
   "cell_type": "code",
   "execution_count": null,
   "metadata": {},
   "outputs": [],
   "source": [
    "refine_chain = load_summarize_chain(\n",
    "    summarization_model,\n",
    "    chain_type=\"refine\",\n",
    "    question_prompt=question_prompt,\n",
    "    refine_prompt=refine_prompt,\n",
    "    return_intermediate_steps = True,\n",
    ")"
   ]
  },
  {
   "cell_type": "code",
   "execution_count": null,
   "metadata": {},
   "outputs": [],
   "source": [
    "refine_outputs = refine_chain({\"input_documents\": translated_docs})"
   ]
  },
  {
   "cell_type": "code",
   "execution_count": null,
   "metadata": {},
   "outputs": [],
   "source": [
    "print(refine_outputs['output_text'])"
   ]
  },
  {
   "cell_type": "code",
   "execution_count": null,
   "metadata": {},
   "outputs": [],
   "source": [
    "from pathlib import Path\n",
    "final_refine_data = []\n",
    "for doc, out in zip(refine_outputs[\"input_documents\"], refine_outputs[\"intermediate_steps\"]):\n",
    "    output = {}\n",
    "    output[\"file_name\"] = Path(doc.metadata[\"source\"]).stem\n",
    "    output[\"file_type\"] = Path(doc.metadata[\"source\"]).suffix\n",
    "    output[\"page_number\"] = doc.metadata[\"page\"]\n",
    "    output[\"chunks\"] = doc.page_content\n",
    "    output[\"concise_summary\"] = out\n",
    "    final_refine_data.append(output)"
   ]
  },
  {
   "cell_type": "code",
   "execution_count": null,
   "metadata": {},
   "outputs": [],
   "source": [
    "import pandas as pd\n",
    "pdf_mp_summary = pd.DataFrame.from_dict(final_refine_data)\n",
    "pdf_mp_summary = pdf_mp_summary.sort_values(by=[\"file_name\", \"page_number\"])\n",
    "pdf_mp_summary.reset_index(inplace=True, drop=True)\n",
    "pdf_mp_summary.head()"
   ]
  },
  {
   "cell_type": "code",
   "execution_count": null,
   "metadata": {},
   "outputs": [],
   "source": [
    "index = 1\n",
    "print(\"[Context]\")\n",
    "print(pdf_mp_summary[\"chunks\"].iloc[index])\n",
    "print(\"\\n\\n[Simple Summary]\")\n",
    "print(pdf_mp_summary[\"concise_summary\"].iloc[index])\n",
    "print(\"\\n\\n[Page number]\")\n",
    "print(pdf_mp_summary[\"page_number\"].iloc[index])\n",
    "print(\"\\n\\n[Source: file_name]\")\n",
    "print(pdf_mp_summary[\"file_name\"].iloc[index])"
   ]
  }
 ],
 "metadata": {
  "kernelspec": {
   "display_name": "chatenv",
   "language": "python",
   "name": "python3"
  },
  "language_info": {
   "codemirror_mode": {
    "name": "ipython",
    "version": 3
   },
   "file_extension": ".py",
   "mimetype": "text/x-python",
   "name": "python",
   "nbconvert_exporter": "python",
   "pygments_lexer": "ipython3",
   "version": "3.12.4"
  }
 },
 "nbformat": 4,
 "nbformat_minor": 2
}
