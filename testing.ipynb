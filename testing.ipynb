{
 "cells": [
  {
   "cell_type": "code",
   "execution_count": 4,
   "metadata": {},
   "outputs": [],
   "source": [
    "import os\n",
    "from dotenv import load_dotenv\n",
    "load_dotenv()\n",
    "\n",
    "## Load the Groq API\n",
    "groq_api_key = os.environ['GROQ_API_KEY']"
   ]
  },
  {
   "cell_type": "code",
   "execution_count": 5,
   "metadata": {},
   "outputs": [],
   "source": [
    "from langchain_groq import ChatGroq\n",
    "llm=ChatGroq(groq_api_key=groq_api_key, model_name = \"llama3-8b-8192\")"
   ]
  },
  {
   "cell_type": "code",
   "execution_count": 18,
   "metadata": {},
   "outputs": [],
   "source": [
    "response = llm.invoke(\"hewhere is tajmahal?\")"
   ]
  },
  {
   "cell_type": "code",
   "execution_count": 19,
   "metadata": {},
   "outputs": [
    {
     "name": "stdout",
     "output_type": "stream",
     "text": [
      "The Taj Mahal is located in Agra, India. Specifically, it is situated on the southern bank of the Yamuna River in the city of Agra, which is the capital of the Indian state of Uttar Pradesh.\n",
      "\n",
      "The exact address of the Taj Mahal is:\n",
      "\n",
      "Taj Mahal,\n",
      "Dharmapuri,\n",
      "Forest Colony,\n",
      "Tajganj,\n",
      "Agra,\n",
      "Uttar Pradesh 282001,\n",
      "India.\n",
      "\n",
      "The Taj Mahal is one of the most famous and iconic monuments in the world, and it is considered a UNESCO World Heritage Site. It was built by Mughal Emperor Shah Jahan in memory of his wife, Mumtaz Mahal, who died in childbirth in 1631. The monument is a stunning example of Mughal architecture, a blend of Indian, Persian, and Islamic styles, and is known for its beautiful white marble and intricate inlays of precious stones.\n"
     ]
    }
   ],
   "source": [
    "print(response.content)"
   ]
  },
  {
   "cell_type": "code",
   "execution_count": null,
   "metadata": {},
   "outputs": [],
   "source": []
  }
 ],
 "metadata": {
  "kernelspec": {
   "display_name": "chatenv",
   "language": "python",
   "name": "python3"
  },
  "language_info": {
   "codemirror_mode": {
    "name": "ipython",
    "version": 3
   },
   "file_extension": ".py",
   "mimetype": "text/x-python",
   "name": "python",
   "nbconvert_exporter": "python",
   "pygments_lexer": "ipython3",
   "version": "3.12.4"
  }
 },
 "nbformat": 4,
 "nbformat_minor": 2
}
